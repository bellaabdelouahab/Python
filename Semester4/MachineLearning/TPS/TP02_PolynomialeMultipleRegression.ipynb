{
 "cells": [
  {
   "cell_type": "markdown",
   "metadata": {},
   "source": [
    "#  I- Régression Linéaire Multiple"
   ]
  },
  {
   "cell_type": "markdown",
   "metadata": {},
   "source": [
    "On parle de Régression Linéaire Multiple lorsqu'on integre plusieures variables $x_1,x_2,....x_n$\n",
    " à notre modèle et que les choses commencent à devenir vraiment intéressantes. \n",
    "Le but de la Régression Linéaire Multiple est de rouver le meilleur ensemble  $\\theta=(\\theta_0,\\theta_1,...., \\theta_n)$ revient à  minimiser le coût global des erreurs unitaires qui se définit comme suit :\n",
    "\t\t$$  \\min J(\\theta)=\\min_{\\theta}\\frac{1}{2m}\\sum_{i=0}^{m} (h_\\theta(x(i))-y(i))^2$$\n",
    "avec $m$ est la taille du training set.\n",
    "Avec $$h_\\theta(x)=\\theta_0+\\theta_1 x_1+\\theta_2x_2+.....+\\theta_n x_n $$  \n"
   ]
  },
  {
   "cell_type": "markdown",
   "metadata": {},
   "source": [
    "# 1-datasets\n",
    "\n",
    "###   Créer un modèle à deux variables de régression linéaire multiple (n=2), \n",
    " (x,y) avec $m$ exemples, $2$ variables \n",
    "\t\t\n",
    "$\n",
    "\t\t\tX=\\begin{pmatrix} \n",
    "\t\t\tx_1^{(1)}&\tx_2^{(1)}&1\\\\                \n",
    "\t\t\tx_1^{(2)}&x_2^{(2)}&1\\\\ \n",
    "\t\t\t..&..&..1\\\\ \n",
    "\t\t\t..&..&..1\\\\ \n",
    "\t\t\tx_1^{(m)}&x_2^{(m)}&1\n",
    "\t\t\t\\end{pmatrix}\\notag\n",
    "\t\t\t$\n",
    "            \n",
    "$       Y= \\begin{pmatrix}\n",
    "\t\tY^{(1)}\\\\ \n",
    "\t\tY^{(2)}\\\\\n",
    "\t\t.....\\\\\n",
    "\t\t.....\\\\\n",
    "\t\tY^{(m)}\n",
    "        \\end{pmatrix}\n",
    "        $\n",
    "            \n",
    "$           \\theta=\\begin{pmatrix} \n",
    "\t\t\t\\theta_1\\\\ \n",
    "\t\t\t\\theta_2\\\\ \n",
    "\t\t\t\\theta_0\n",
    "\t\t\t\\end{pmatrix}\n",
    "            $\n",
    "\t\n",
    "  "
   ]
  },
  {
   "cell_type": "markdown",
   "metadata": {},
   "source": [
    "#### 1-Générer de données aléatoires\n",
    "#### 2-Afficher les données en 2D puis en 3D\n"
   ]
  },
  {
   "cell_type": "code",
   "execution_count": 79,
   "metadata": {},
   "outputs": [
    {
     "data": {
      "text/plain": [
       "<matplotlib.collections.PathCollection at 0x20c4fdf8340>"
      ]
     },
     "execution_count": 79,
     "metadata": {},
     "output_type": "execute_result"
    },
    {
     "data": {
      "image/png": "[encoded data removed]",
      "text/plain": [
       "<Figure size 432x288 with 1 Axes>"
      ]
     },
     "metadata": {
      "needs_background": "light"
     },
     "output_type": "display_data"
    }
   ],
   "source": [
    "from sklearn.datasets import make_regression\n",
    "import numpy as np\n",
    "import matplotlib.pyplot as plt\n",
    "\n",
    "np.random.seed(0)\n",
    "x,y = make_regression(n_samples=100, n_features=1,noise=10)\n",
    "plt.scatter(x,y)\n",
    "\n",
    "# from mpl_toolkits.mplot3d import Axes3D\n",
    "# ax =plt.axes(projection='3d')\n",
    "# ax.scatter(x[:,0],y)"
   ]
  },
  {
   "cell_type": "markdown",
   "metadata": {},
   "source": [
    "#### 3-redimentioner les matrices, créer la matrice X et $\\theta$"
   ]
  },
  {
   "cell_type": "code",
   "execution_count": 80,
   "metadata": {},
   "outputs": [],
   "source": [
    "import random\n",
    "X=np.array([[x[i][0] , 1] for i in range(len(x))])\n",
    "y=np.reshape(y,(100,1))\n",
    "deta=np.reshape( np.array([random.randint(9,10),random.randint(8,10)]) ,(2,1))"
   ]
  },
  {
   "cell_type": "markdown",
   "metadata": {},
   "source": [
    "#### 4-Implémenter le model de prédiction, Fonction cout, Gradients et Descente de Gradient"
   ]
  },
  {
   "cell_type": "code",
   "execution_count": 81,
   "metadata": {},
   "outputs": [],
   "source": [
    "def cost_function(x,o,y):\n",
    "    return (sum([o[1]*x[i][1]+o[0]*x[i][0] for i in range(len(x))]-y)**2)*(1/(2*len(x)))\n",
    "\n",
    "def lineaire_prediction(x,deta):\n",
    "    return x.dot(deta)\n",
    "\n",
    "def descendent(o,alpha,x,y):\n",
    "    return o-(grade_function(x,o,y)*alpha)\n",
    "\n",
    "grade_function=lambda x,o,y: np.dot(np.transpose(x),lineaire_prediction(x,o)-y)*(1 / len(x))"
   ]
  },
  {
   "cell_type": "code",
   "execution_count": 82,
   "metadata": {},
   "outputs": [],
   "source": [
    "# lineaire_prediction(X,deta)\n",
    "# X.dot(deta)"
   ]
  },
  {
   "cell_type": "code",
   "execution_count": 83,
   "metadata": {},
   "outputs": [
    {
     "data": {
      "text/plain": [
       "[<matplotlib.lines.Line2D at 0x20c4fadfb20>]"
      ]
     },
     "execution_count": 83,
     "metadata": {},
     "output_type": "execute_result"
    },
    {
     "data": {
      "image/png": "[encoded data removed]",
      "text/plain": [
       "<Figure size 432x288 with 1 Axes>"
      ]
     },
     "metadata": {
      "needs_background": "light"
     },
     "output_type": "display_data"
    }
   ],
   "source": [
    "cost_history = []\n",
    "deta_ = deta\n",
    "for i in range(100):\n",
    "    deta_ = descendent(deta_,0.1,X,y)\n",
    "    cost_history.append(cost_function(X,deta_,y))\n",
    "plt.plot([i for i in range(len(cost_history))],cost_history)"
   ]
  },
  {
   "cell_type": "markdown",
   "metadata": {},
   "source": [
    " #### 5-Afficher les valeurs de $\\theta$\n"
   ]
  },
  {
   "cell_type": "code",
   "execution_count": 84,
   "metadata": {},
   "outputs": [
    {
     "data": {
      "text/plain": [
       "array([[42.61837702],\n",
       "       [-0.81327768]])"
      ]
     },
     "execution_count": 84,
     "metadata": {},
     "output_type": "execute_result"
    }
   ],
   "source": [
    "deta_"
   ]
  },
  {
   "cell_type": "markdown",
   "metadata": {},
   "source": [
    "### 6-Afficher les résultats de prédictions par rapport a notre Dataset ainsi que la courbe d'apprentissage"
   ]
  },
  {
   "cell_type": "code",
   "execution_count": 85,
   "metadata": {},
   "outputs": [],
   "source": [
    "iteration=1000\n",
    "new_deta_value=deta_\n",
    "for i in range(iteration):\n",
    "    new_deta_value=descendent(new_deta_value,0.01,X,y)"
   ]
  },
  {
   "cell_type": "code",
   "execution_count": 86,
   "metadata": {},
   "outputs": [
    {
     "data": {
      "text/plain": [
       "<matplotlib.collections.PathCollection at 0x20c4f754fa0>"
      ]
     },
     "execution_count": 86,
     "metadata": {},
     "output_type": "execute_result"
    },
    {
     "data": {
      "image/png": "[encoded data removed]",
      "text/plain": [
       "<Figure size 432x288 with 1 Axes>"
      ]
     },
     "metadata": {
      "needs_background": "light"
     },
     "output_type": "display_data"
    }
   ],
   "source": [
    "y_predict=lineaire_prediction(X,new_deta_value)\n",
    "plt.scatter(X[:,0] , y , c='green')\n",
    "plt.scatter(X[:,0] , y_predict , c='red')"
   ]
  },
  {
   "cell_type": "markdown",
   "metadata": {},
   "source": [
    "### 7-Utiliser le coefficient de détermination pour évaluer la réelle performance et interpréter le resultats"
   ]
  },
  {
   "cell_type": "code",
   "execution_count": 87,
   "metadata": {},
   "outputs": [
    {
     "data": {
      "text/plain": [
       "1"
      ]
     },
     "execution_count": 87,
     "metadata": {},
     "output_type": "execute_result"
    }
   ],
   "source": [
    "def R2(x,y,o):\n",
    "    return int( 1-( (sum(y-lineaire_prediction(x,o)))/(sum( (y-np.mean(y) )**2) ) ) )\n",
    "R2(X,y_predict,new_deta_value)"
   ]
  },
  {
   "cell_type": "markdown",
   "metadata": {},
   "source": [
    "#  II- Régression Polynomiale"
   ]
  },
  {
   "cell_type": "markdown",
   "metadata": {},
   "source": [
    "Pour développer un modèle polynomial à partir des équations de la régression linéaire, il suffit d'ajouter des degrés de polynome dans les colonnes de la matrice. On développera un modèle qui vise à chercher la fonction de prédiction $$h_\\theta(x)=\\theta_0+\\theta_1 x+\\theta_2x^2+.....+\\theta_n x^n $$  "
   ]
  },
  {
   "cell_type": "markdown",
   "metadata": {},
   "source": [
    "# 1-datasets\n",
    "\tPour n=2, on a \n",
    "$\n",
    "\t\t\tX=\\begin{pmatrix} \n",
    "\t\t\tx^{(1)}&\tx^{2^{(1)}}&1\\\\                \n",
    "\t\t\tx^{(2)}&x^{2^{(2)}}&1\\\\ \n",
    "\t\t\t..&..&..1\\\\ \n",
    "\t\t\t..&..&..1\\\\ \n",
    "\t\t\tx^{(m)}&x^{2^{(m)}}&1\n",
    "\t\t\t\\end{pmatrix}\\notag\n",
    "\t\t\t$\n",
    "            \n",
    "$       Y= \\begin{pmatrix}\n",
    "\t\tY^{(1)}\\\\ \n",
    "\t\tY^{(2)}\\\\\n",
    "\t\t.....\\\\\n",
    "\t\t.....\\\\\n",
    "\t\tY^{(m)}\n",
    "        \\end{pmatrix}\n",
    "        $\n",
    "            \n",
    "$           \\theta=\\begin{pmatrix} \n",
    "\t\t\t\\theta_1\\\\ \n",
    "\t\t\t\\theta_2\\\\ \n",
    "\t\t\t\\theta_0\n",
    "\t\t\t\\end{pmatrix}\n",
    "            $\n",
    "\t"
   ]
  },
  {
   "cell_type": "markdown",
   "metadata": {},
   "source": [
    " ### Refaire les mêmes étapes pour créer un model de prédiction par la régression polynomiale\n",
    "  NB:modifier les valeurs de y pour rendre le dataset non-linéaire ( utiliser une fonction non linéaire)"
   ]
  },
  {
   "cell_type": "code",
   "execution_count": 88,
   "metadata": {},
   "outputs": [],
   "source": [
    "# create dataset\n",
    "x1=np.array([[1,2],[3,4],[5,6]])\n",
    "y1=np.array([[1],[5],[7]])"
   ]
  },
  {
   "cell_type": "code",
   "execution_count": 89,
   "metadata": {},
   "outputs": [
    {
     "name": "stdout",
     "output_type": "stream",
     "text": [
      "[[1 2 1]\n",
      " [3 4 1]\n",
      " [5 6 1]] \n",
      " ------------ \n",
      " [[1]\n",
      " [5]\n",
      " [7]] \n",
      " ------------ \n",
      " [[ 9]\n",
      " [10]\n",
      " [10]]\n"
     ]
    }
   ],
   "source": [
    "# create matrix X and reshape y\n",
    "X1=np.array([[x1[i][0],x1[i][1],1] for i in range(len(x1))])\n",
    "y=np.reshape(y1,(3,1))\n",
    "# create deta\n",
    "deta1=np.reshape( np.array([random.randint(6,10),random.randint(8,10),random.randint(7,10)]) ,(3,1))\n",
    "print(X1,\"\\n ------------ \\n\",y,'\\n ------------ \\n',deta1)"
   ]
  },
  {
   "cell_type": "code",
   "execution_count": 90,
   "metadata": {},
   "outputs": [],
   "source": [
    "# create predict function\n",
    "def predict_function(x,o):\n",
    "    return x.dot(o)\n",
    "# cost function \n",
    "# cost_function(X1,deta1,y)\n",
    "# grdde\n",
    "# grade_function(X1,deta1,y)\n",
    "#descend\n",
    "# descendent(deta1,0.01,X1,y)"
   ]
  },
  {
   "cell_type": "code",
   "execution_count": 91,
   "metadata": {},
   "outputs": [],
   "source": [
    "# calcul new value of deta\n",
    "new_deta_value=deta1\n",
    "for i in range(1000):\n",
    "    new_deta_value=descendent(new_deta_value,0.01,X1,y)"
   ]
  },
  {
   "cell_type": "code",
   "execution_count": 92,
   "metadata": {},
   "outputs": [
    {
     "data": {
      "text/plain": [
       "array([[1.72401589],\n",
       "       [4.43728991],\n",
       "       [7.15056394]])"
      ]
     },
     "execution_count": 92,
     "metadata": {},
     "output_type": "execute_result"
    }
   ],
   "source": [
    "# calcul predect value\n",
    "y_predect = lineaire_prediction(X1,new_deta_value)\n",
    "y_predect"
   ]
  },
  {
   "cell_type": "code",
   "execution_count": 93,
   "metadata": {},
   "outputs": [
    {
     "data": {
      "text/plain": [
       "<mpl_toolkits.mplot3d.art3d.Path3DCollection at 0x20c50525d00>"
      ]
     },
     "execution_count": 93,
     "metadata": {},
     "output_type": "execute_result"
    },
    {
     "data": {
      "image/png": "[encoded data removed]",
      "text/plain": [
       "<Figure size 432x288 with 1 Axes>"
      ]
     },
     "metadata": {
      "needs_background": "light"
     },
     "output_type": "display_data"
    }
   ],
   "source": [
    "# show our dataset with prediction\n",
    "from mpl_toolkits.mplot3d import Axes3D\n",
    "ax =plt.axes(projection='3d')\n",
    "ax.scatter(X1[:,0],X1[:,1],y_predect,cmap='Blues')"
   ]
  },
  {
   "cell_type": "code",
   "execution_count": 94,
   "metadata": {},
   "outputs": [],
   "source": [
    "# from math import sqrt\n",
    "# def cov(x,y):\n",
    "# #         multi=0\n",
    "# #         for i in range(len(x)):\n",
    "# #             multi+=x.dot(y)- ( (np.mean(x))*(np.mean(y)) )\n",
    "#         return (1/len(x))*sum(x.dot(y)- ( (np.mean(x))*(np.mean(y)) ))\n",
    "    \n",
    "# R=lambda x,y :cov(x,y)/(sqrt(np.var(x))*sqrt(np.var(y)))\n",
    "# print(int(R(X1,y_predect)))"
   ]
  },
  {
   "cell_type": "markdown",
   "metadata": {},
   "source": [
    "# III- Régressions linéaires avec Statsmodels et Scikit-Learn\n",
    " En utilisant les données du fichiers \"mtcars.csv\", on vise à prédire la consommation d'essence du véhicule \"mpg\" en fonction du poids du véhicule \"wt\" et la puissance du vehicule \"hp\" (horse power) en appliquant la régression linéaire multiple et polynomiale."
   ]
  },
  {
   "cell_type": "markdown",
   "metadata": {},
   "source": [
    "## 1-Regression  multiple en utilisant Scikit-Learn \n",
    "    1-importer les données \n",
    "    2-faites appel à \"linear_model.LinearRegression\" de Scikit-Learn \n",
    "    3-Vous faites la prédiction\n",
    "    4-Afficher en 3d les résultats \n",
    "    5-Quel est la consommation d'essence du véhicule prédite avec le poids de 3.1 et une puissance de 120"
   ]
  },
  {
   "cell_type": "code",
   "execution_count": 95,
   "metadata": {},
   "outputs": [],
   "source": [
    "import sklearn\n",
    "import pandas as pd\n",
    "from sklearn import linear_model"
   ]
  },
  {
   "cell_type": "code",
   "execution_count": 110,
   "metadata": {},
   "outputs": [
    {
     "data": {
      "text/plain": [
       "Index(['model', 'mpg', 'cyl', 'disp', 'hp', 'drat', 'wt', 'qsec', 'vs', 'am',\n",
       "       'gear', 'carb'],\n",
       "      dtype='object')"
      ]
     },
     "execution_count": 110,
     "metadata": {},
     "output_type": "execute_result"
    }
   ],
   "source": [
    "mydata=pd.read_csv(\"../LinearReg/mtcars.csv\")\n",
    "mydata.columns\n",
    "predict1=\"wt\"\n",
    "predict2=\"hp\"\n",
    "x2=np.array(mydata.drop([\"model\",\"mpg\",\"cyl\",\"disp\",\"qsec\",\"vs\",\"am\",\"gear\",\"carb\",\"drat\"],1))\n",
    "y2=np.array(mydata[\"mpg\"])\n",
    "print(x2.shape,y2.shape)"
   ]
  },
  {
   "cell_type": "code",
   "execution_count": 104,
   "metadata": {
    "scrolled": true
   },
   "outputs": [
    {
     "name": "stdout",
     "output_type": "stream",
     "text": [
      "deta1 = -0.031772946982160974\tdeta2 = -3.8778307424046794\tdeta0 = 37.2272701164472\n",
      "score : 0.8267854518827914\n"
     ]
    }
   ],
   "source": [
    "model = linear_model.LinearRegression().fit(x2,y2)\n",
    "print(\"deta1 = {}\\tdeta2 = {}\\tdeta0 = {}\\nscore : {}\".format(model.coef_[0],model.coef_[1],model.intercept_,model.score(x2,y2)))"
   ]
  },
  {
   "cell_type": "code",
   "execution_count": 105,
   "metadata": {},
   "outputs": [
    {
     "data": {
      "text/plain": [
       "array([21.39324118])"
      ]
     },
     "execution_count": 105,
     "metadata": {},
     "output_type": "execute_result"
    }
   ],
   "source": [
    "model.predict(np.array([[120,3.1]]))"
   ]
  },
  {
   "cell_type": "code",
   "execution_count": 106,
   "metadata": {},
   "outputs": [
    {
     "ename": "ValueError",
     "evalue": "shapes (32,2) and (3,1) not aligned: 2 (dim 1) != 3 (dim 0)",
     "output_type": "error",
     "traceback": [
      "\u001b[1;31m---------------------------------------------------------------------------\u001b[0m",
      "\u001b[1;31mValueError\u001b[0m                                Traceback (most recent call last)",
      "Input \u001b[1;32mIn [106]\u001b[0m, in \u001b[0;36m<module>\u001b[1;34m\u001b[0m\n\u001b[0;32m      3\u001b[0m ax\u001b[38;5;241m=\u001b[39mfig\u001b[38;5;241m.\u001b[39madd_subplot(\u001b[38;5;241m111\u001b[39m,projection\u001b[38;5;241m=\u001b[39m\u001b[38;5;124m'\u001b[39m\u001b[38;5;124m3d\u001b[39m\u001b[38;5;124m'\u001b[39m)\n\u001b[0;32m      4\u001b[0m ax\u001b[38;5;241m.\u001b[39mscatter(x2[:,\u001b[38;5;241m0\u001b[39m],x2[:,\u001b[38;5;241m1\u001b[39m],y2,cmap\u001b[38;5;241m=\u001b[39m\u001b[38;5;124m'\u001b[39m\u001b[38;5;124mBlues\u001b[39m\u001b[38;5;124m'\u001b[39m)\n\u001b[1;32m----> 5\u001b[0m ax\u001b[38;5;241m.\u001b[39mscatter(x2[:,\u001b[38;5;241m0\u001b[39m],x2[:,\u001b[38;5;241m1\u001b[39m],\u001b[43mlineaire_prediction\u001b[49m\u001b[43m(\u001b[49m\u001b[43mx2\u001b[49m\u001b[43m,\u001b[49m\u001b[43mn_theta\u001b[49m\u001b[43m)\u001b[49m,cmap\u001b[38;5;241m=\u001b[39m\u001b[38;5;124m'\u001b[39m\u001b[38;5;124mBlues\u001b[39m\u001b[38;5;124m'\u001b[39m)\n",
      "Input \u001b[1;32mIn [81]\u001b[0m, in \u001b[0;36mlineaire_prediction\u001b[1;34m(x, deta)\u001b[0m\n\u001b[0;32m      4\u001b[0m \u001b[38;5;28;01mdef\u001b[39;00m \u001b[38;5;21mlineaire_prediction\u001b[39m(x,deta):\n\u001b[1;32m----> 5\u001b[0m     \u001b[38;5;28;01mreturn\u001b[39;00m \u001b[43mx\u001b[49m\u001b[38;5;241;43m.\u001b[39;49m\u001b[43mdot\u001b[49m\u001b[43m(\u001b[49m\u001b[43mdeta\u001b[49m\u001b[43m)\u001b[49m\n",
      "\u001b[1;31mValueError\u001b[0m: shapes (32,2) and (3,1) not aligned: 2 (dim 1) != 3 (dim 0)"
     ]
    },
    {
     "data": {
      "image/png": "[encoded data removed]",
      "text/plain": [
       "<Figure size 432x288 with 1 Axes>"
      ]
     },
     "metadata": {
      "needs_background": "light"
     },
     "output_type": "display_data"
    }
   ],
   "source": [
    "n_theta=np.reshape( np.array([model.coef_[1],model.coef_[0],model.intercept_]) ,(3,1))\n",
    "fig=plt.figure()\n",
    "ax=fig.add_subplot(111,projection='3d')\n",
    "ax.scatter(x2[:,0],x2[:,1],y2,cmap='Blues')\n",
    "ax.scatter(x2[:,0],x2[:,1],lineaire_prediction(x2,n_theta),cmap='Blues')"
   ]
  },
  {
   "cell_type": "markdown",
   "metadata": {},
   "source": [
    "## 2-Regression  multiple en utilisant statsmodels\n",
    "    refaire les memes etatpes, comparer les résultas"
   ]
  },
  {
   "cell_type": "code",
   "execution_count": 1,
   "metadata": {},
   "outputs": [
    {
     "ename": "NameError",
     "evalue": "name 'x2' is not defined",
     "output_type": "error",
     "traceback": [
      "\u001b[1;31m---------------------------------------------------------------------------\u001b[0m",
      "\u001b[1;31mNameError\u001b[0m                                 Traceback (most recent call last)",
      "Input \u001b[1;32mIn [1]\u001b[0m, in \u001b[0;36m<module>\u001b[1;34m\u001b[0m\n\u001b[0;32m      1\u001b[0m \u001b[38;5;28;01mimport\u001b[39;00m \u001b[38;5;21;01mstatsmodels\u001b[39;00m\u001b[38;5;21;01m.\u001b[39;00m\u001b[38;5;21;01mapi\u001b[39;00m \u001b[38;5;28;01mas\u001b[39;00m \u001b[38;5;21;01msm\u001b[39;00m\n\u001b[1;32m----> 2\u001b[0m x2 \u001b[38;5;241m=\u001b[39m sm\u001b[38;5;241m.\u001b[39madd_constant(\u001b[43mx2\u001b[49m)\n\u001b[0;32m      3\u001b[0m res\u001b[38;5;241m=\u001b[39msm\u001b[38;5;241m.\u001b[39mOLS(y2,x2)\u001b[38;5;241m.\u001b[39mfit()\n\u001b[0;32m      4\u001b[0m \u001b[38;5;66;03m# print(res.summary())\u001b[39;00m\n",
      "\u001b[1;31mNameError\u001b[0m: name 'x2' is not defined"
     ]
    }
   ],
   "source": [
    "import statsmodels.api as sm\n",
    "x2 = sm.add_constant(x2)\n",
    "res=sm.OLS(y2,x2).fit()\n",
    "# print(res.summary())\n",
    "ax =plt.axes(projection='3d')\n",
    "ax.scatter(x2[:,0],x2[:,1],y2,cmap='Blues')\n",
    "ax.scatter(x2[:,0],x2[:,1],res.predict(x2),cmap='Blues')"
   ]
  }
 ],
 "metadata": {
  "kernelspec": {
   "display_name": "Python 3 (ipykernel)",
   "language": "python",
   "name": "python3"
  },
  "language_info": {
   "codemirror_mode": {
    "name": "ipython",
    "version": 3
   },
   "file_extension": ".py",
   "mimetype": "text/x-python",
   "name": "python",
   "nbconvert_exporter": "python",
   "pygments_lexer": "ipython3",
   "version": "3.9.6"
  }
 },
 "nbformat": 4,
 "nbformat_minor": 4
}
