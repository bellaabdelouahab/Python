{
 "cells": [
  {
   "cell_type": "markdown",
   "metadata": {},
   "source": [
    "#  I- Régression Linéaire Multiple"
   ]
  },
  {
   "cell_type": "markdown",
   "metadata": {},
   "source": [
    "On parle de Régression Linéaire Multiple lorsqu'on integre plusieures variables $x_1,x_2,....x_n$\n",
    " à notre modèle et que les choses commencent à devenir vraiment intéressantes. \n",
    "Le but de la Régression Linéaire Multiple est de rouver le meilleur ensemble  $\\theta=(\\theta_0,\\theta_1,...., \\theta_n)$ revient à  minimiser le coût global des erreurs unitaires qui se définit comme suit :\n",
    "\t\t$$  \\min J(\\theta)=\\min_{\\theta}\\frac{1}{2m}\\sum_{i=0}^{m} (h_\\theta(x(i))-y(i))^2$$\n",
    "avec $m$ est la taille du training set.\n",
    "Avec $$h_\\theta(x)=\\theta_0+\\theta_1 x_1+\\theta_2x_2+.....+\\theta_n x_n $$  \n"
   ]
  },
  {
   "cell_type": "markdown",
   "metadata": {},
   "source": [
    "# 1-datasets\n",
    "\n",
    "###   Créer un modèle à deux variables de régression linéaire multiple (n=2), \n",
    " (x,y) avec $m$ exemples, $2$ variables \n",
    "\t\t\n",
    "$\n",
    "\t\t\tX=\\begin{pmatrix} \n",
    "\t\t\tx_1^{(1)}&\tx_2^{(1)}&1\\\\                \n",
    "\t\t\tx_1^{(2)}&x_2^{(2)}&1\\\\ \n",
    "\t\t\t..&..&..1\\\\ \n",
    "\t\t\t..&..&..1\\\\ \n",
    "\t\t\tx_1^{(m)}&x_2^{(m)}&1\n",
    "\t\t\t\\end{pmatrix}\\notag\n",
    "\t\t\t$\n",
    "            \n",
    "$       Y= \\begin{pmatrix}\n",
    "\t\tY^{(1)}\\\\ \n",
    "\t\tY^{(2)}\\\\\n",
    "\t\t.....\\\\\n",
    "\t\t.....\\\\\n",
    "\t\tY^{(m)}\n",
    "        \\end{pmatrix}\n",
    "        $\n",
    "            \n",
    "$           \\theta=\\begin{pmatrix} \n",
    "\t\t\t\\theta_1\\\\ \n",
    "\t\t\t\\theta_2\\\\ \n",
    "\t\t\t\\theta_0\n",
    "\t\t\t\\end{pmatrix}\n",
    "            $\n",
    "\t\n",
    "  "
   ]
  },
  {
   "cell_type": "markdown",
   "metadata": {},
   "source": [
    "#### 1-Générer de données aléatoires\n",
    "#### 2-Afficher les données en 2D puis en 3D\n"
   ]
  },
  {
   "cell_type": "code",
   "execution_count": 17,
   "metadata": {},
   "outputs": [
    {
     "data": {
      "text/plain": [
       "<matplotlib.collections.PathCollection at 0x133fc89c550>"
      ]
     },
     "execution_count": 17,
     "metadata": {},
     "output_type": "execute_result"
    },
    {
     "data": {
      "image/png": "[encoded data removed]",
      "text/plain": [
       "<Figure size 432x288 with 1 Axes>"
      ]
     },
     "metadata": {
      "needs_background": "light"
     },
     "output_type": "display_data"
    }
   ],
   "source": [
    "import numpy as np\n",
    "import random\n",
    "from matplotlib import pyplot as plt\n",
    "x = np.array([[random.randint(-10,10),random.randint(-10,10)] for i in range(20)])\n",
    "y = np.array([[random.randint(-10,10)] for i in range(20)])\n",
    "plt.scatter([i[0] for i in x], y)"
   ]
  },
  {
   "cell_type": "markdown",
   "metadata": {},
   "source": [
    "#### 3-redimentioner les matrices, créer la matrice X et $\\theta$"
   ]
  },
  {
   "cell_type": "code",
   "execution_count": 4,
   "metadata": {},
   "outputs": [
    {
     "name": "stderr",
     "output_type": "stream",
     "text": [
      "UsageError: %%python3 is a cell magic, but the cell body is empty.\n"
     ]
    }
   ],
   "source": [
    "X = np.c_[np.ones((len(x), 1)), x]\n",
    "Q = np.random.randn(3, 1)"
   ]
  },
  {
   "cell_type": "markdown",
   "metadata": {},
   "source": [
    "#### 4-Implémenter le model de prédiction, Fonction cout, Gradients et Descente de Gradient"
   ]
  },
  {
   "cell_type": "code",
   "execution_count": null,
   "metadata": {
    "scrolled": true
   },
   "outputs": [],
   "source": []
  },
  {
   "cell_type": "code",
   "execution_count": null,
   "metadata": {},
   "outputs": [],
   "source": []
  },
  {
   "cell_type": "code",
   "execution_count": 116,
   "metadata": {},
   "outputs": [],
   "source": []
  },
  {
   "cell_type": "markdown",
   "metadata": {},
   "source": [
    " #### 5-Afficher les valeurs de $\\theta$\n"
   ]
  },
  {
   "cell_type": "code",
   "execution_count": null,
   "metadata": {},
   "outputs": [],
   "source": []
  },
  {
   "cell_type": "markdown",
   "metadata": {},
   "source": [
    "### 6-Afficher les résultats de prédictions par rapport a notre Dataset ainsi que la courbe d'apprentissage"
   ]
  },
  {
   "cell_type": "code",
   "execution_count": null,
   "metadata": {},
   "outputs": [],
   "source": []
  },
  {
   "cell_type": "code",
   "execution_count": null,
   "metadata": {},
   "outputs": [],
   "source": []
  },
  {
   "cell_type": "markdown",
   "metadata": {},
   "source": [
    "### 7-Utiliser le coefficient de détermination pour évaluer la réelle performance et interpréter le resultats"
   ]
  },
  {
   "cell_type": "code",
   "execution_count": null,
   "metadata": {},
   "outputs": [],
   "source": []
  },
  {
   "cell_type": "markdown",
   "metadata": {},
   "source": [
    "#  II- Régression Polynomiale"
   ]
  },
  {
   "cell_type": "markdown",
   "metadata": {},
   "source": [
    "Pour développer un modèle polynomial à partir des équations de la régression linéaire, il suffit d'ajouter des degrés de polynome dans les colonnes de la matrice. On développera un modèle qui vise à chercher la fonction de prédiction $$h_\\theta(x)=\\theta_0+\\theta_1 x+\\theta_2x^2+.....+\\theta_n x^n $$  "
   ]
  },
  {
   "cell_type": "markdown",
   "metadata": {},
   "source": [
    "# 1-datasets\n",
    "\tPour n=2, on a \n",
    "$\n",
    "\t\t\tX=\\begin{pmatrix} \n",
    "\t\t\tx^{(1)}&\tx^{2^{(1)}}&1\\\\                \n",
    "\t\t\tx^{(2)}&x^{2^{(2)}}&1\\\\ \n",
    "\t\t\t..&..&..1\\\\ \n",
    "\t\t\t..&..&..1\\\\ \n",
    "\t\t\tx^{(m)}&x^{2^{(m)}}&1\n",
    "\t\t\t\\end{pmatrix}\\notag\n",
    "\t\t\t$\n",
    "            \n",
    "$       Y= \\begin{pmatrix}\n",
    "\t\tY^{(1)}\\\\ \n",
    "\t\tY^{(2)}\\\\\n",
    "\t\t.....\\\\\n",
    "\t\t.....\\\\\n",
    "\t\tY^{(m)}\n",
    "        \\end{pmatrix}\n",
    "        $\n",
    "            \n",
    "$           \\theta=\\begin{pmatrix} \n",
    "\t\t\t\\theta_1\\\\ \n",
    "\t\t\t\\theta_2\\\\ \n",
    "\t\t\t\\theta_0\n",
    "\t\t\t\\end{pmatrix}\n",
    "            $\n",
    "\t"
   ]
  },
  {
   "cell_type": "markdown",
   "metadata": {},
   "source": [
    " ### Refaire les mêmes étapes pour créer un model de prédiction par la régression polynomiale\n",
    "  NB:modifier les valeurs de y pour rendre le dataset non-linéaire ( utiliser une fonction non linéaire)"
   ]
  },
  {
   "cell_type": "code",
   "execution_count": 2,
   "metadata": {},
   "outputs": [],
   "source": [
    "\n"
   ]
  },
  {
   "cell_type": "code",
   "execution_count": null,
   "metadata": {},
   "outputs": [],
   "source": []
  },
  {
   "cell_type": "code",
   "execution_count": null,
   "metadata": {},
   "outputs": [],
   "source": []
  },
  {
   "cell_type": "code",
   "execution_count": null,
   "metadata": {},
   "outputs": [],
   "source": []
  },
  {
   "cell_type": "code",
   "execution_count": 163,
   "metadata": {},
   "outputs": [],
   "source": []
  },
  {
   "cell_type": "code",
   "execution_count": null,
   "metadata": {},
   "outputs": [],
   "source": []
  },
  {
   "cell_type": "code",
   "execution_count": null,
   "metadata": {},
   "outputs": [],
   "source": []
  },
  {
   "cell_type": "code",
   "execution_count": null,
   "metadata": {},
   "outputs": [],
   "source": []
  },
  {
   "cell_type": "markdown",
   "metadata": {},
   "source": [
    "# III- Régressions linéaires avec Statsmodels et Scikit-Learn\n",
    " En utilisant les données du fichiers \"mtcars.csv\", on vise à prédire la consommation d'essence du véhicule \"mpg\" en fonction du poids du véhicule \"wt\" et la puissance du vehicule \"hp\" (horse power) en appliquant la régression linéaire multiple et polynomiale."
   ]
  },
  {
   "cell_type": "markdown",
   "metadata": {},
   "source": [
    "## 1-Regression  multiple en utilisant Scikit-Learn \n",
    "    1-importer les données \n",
    "    2-faites appel à \"linear_model.LinearRegression\" de Scikit-Learn \n",
    "    3-Vous faites la prédiction\n",
    "    4-Afficher en 3d les résultats \n",
    "    5-Quel est la consommation d'essence du véhicule prédite avec le poids de 3.1 et une puissance de 120"
   ]
  },
  {
   "cell_type": "code",
   "execution_count": 23,
   "metadata": {},
   "outputs": [
    {
     "data": {
      "text/plain": [
       "0.034914609168736344"
      ]
     },
     "execution_count": 23,
     "metadata": {},
     "output_type": "execute_result"
    }
   ],
   "source": [
    "import sklearn\n",
    "import pandas as pd\n",
    "from sklearn.linear_model import LinearRegression"
   ]
  },
  {
   "cell_type": "code",
   "execution_count": 109,
   "metadata": {},
   "outputs": [
    {
     "data": {
      "text/plain": [
       "array([21. , 21. , 22.8, 21.4, 18.7, 18.1, 14.3, 24.4, 22.8, 19.2, 17.8,\n",
       "       16.4, 17.3, 15.2, 10.4, 10.4, 14.7, 32.4, 30.4, 33.9, 21.5, 15.5,\n",
       "       15.2, 13.3, 19.2, 27.3, 26. , 30.4, 15.8, 19.7, 15. , 21.4])"
      ]
     },
     "execution_count": 109,
     "metadata": {},
     "output_type": "execute_result"
    }
   ],
   "source": [
    "import csv\n",
    "with open('C:/Git-hub/Python/Semester4/MachineLearning/mtcars.csv', newline='') as f:\n",
    "    reader = csv.reader(f)\n",
    "    data = list(reader)\n",
    "X = np.array([[eval(i[4]),eval(i[6])] for i in data[1:]])\n",
    "Y = np.array([ eval(i[1]) for i in data[1:]])\n",
    "Y"
   ]
  },
  {
   "cell_type": "code",
   "execution_count": 96,
   "metadata": {},
   "outputs": [
    {
     "name": "stdout",
     "output_type": "stream",
     "text": [
      "0.8267854518827914\n"
     ]
    },
    {
     "data": {
      "text/plain": [
       "array([21.39324118])"
      ]
     },
     "execution_count": 96,
     "metadata": {},
     "output_type": "execute_result"
    }
   ],
   "source": [
    "reg = LinearRegression().fit(X, Y)\n",
    "print(reg.score(X, Y))\n",
    "reg.predict([[120,3.1]])"
   ]
  },
  {
   "cell_type": "code",
   "execution_count": 83,
   "metadata": {},
   "outputs": [],
   "source": [
    "# fig, ax = plt.subplots(subplot_kw={\"projection\": \"3d\"})\n",
    "# def F(x,y):\n",
    "#     return np.sin(x)+np.cos(x+y)\n",
    "# x,y=[i[0] for i in X],[i[1] for i in X]\n",
    "# # x=x.astype(\"i\")\n",
    "# # y=y.astype(\"i\")\n",
    "# X1,Y1=np.meshgrid(x,y)\n",
    "# Z=F(X1,Y1)\n",
    "# ax=plt.axes(projection='3d')\n",
    "# ax.plot_surface(X,Y,Z,cmap='plasma')\n",
    "# # plt.scatter([i[0] for i in X], Y)"
   ]
  },
  {
   "cell_type": "markdown",
   "metadata": {},
   "source": [
    "## 2-Regression  multiple en utilisant statsmodels\n",
    "    refaire les memes etatpes, comparer les résultas"
   ]
  },
  {
   "cell_type": "code",
   "execution_count": 124,
   "metadata": {},
   "outputs": [
    {
     "ename": "ValueError",
     "evalue": "shapes (1,1) and (3,) not aligned: 1 (dim 1) != 3 (dim 0)",
     "output_type": "error",
     "traceback": [
      "\u001b[1;31m---------------------------------------------------------------------------\u001b[0m",
      "\u001b[1;31mValueError\u001b[0m                                Traceback (most recent call last)",
      "Input \u001b[1;32mIn [124]\u001b[0m, in \u001b[0;36m<module>\u001b[1;34m\u001b[0m\n\u001b[0;32m      4\u001b[0m results \u001b[38;5;241m=\u001b[39m model\u001b[38;5;241m.\u001b[39mfit()\n\u001b[0;32m      5\u001b[0m results\u001b[38;5;241m.\u001b[39msummary()\n\u001b[1;32m----> 7\u001b[0m \u001b[43mresults\u001b[49m\u001b[38;5;241;43m.\u001b[39;49m\u001b[43mpredict\u001b[49m\u001b[43m(\u001b[49m\u001b[43m[\u001b[49m\u001b[38;5;241;43m3.1\u001b[39;49m\u001b[43m]\u001b[49m\u001b[43m)\u001b[49m\n",
      "File \u001b[1;32m~\\AppData\\Local\\Programs\\Python\\Python39\\lib\\site-packages\\statsmodels\\base\\model.py:1159\u001b[0m, in \u001b[0;36mResults.predict\u001b[1;34m(self, exog, transform, *args, **kwargs)\u001b[0m\n\u001b[0;32m   1156\u001b[0m         exog \u001b[38;5;241m=\u001b[39m exog[:, \u001b[38;5;28;01mNone\u001b[39;00m]\n\u001b[0;32m   1157\u001b[0m     exog \u001b[38;5;241m=\u001b[39m np\u001b[38;5;241m.\u001b[39matleast_2d(exog)  \u001b[38;5;66;03m# needed in count model shape[1]\u001b[39;00m\n\u001b[1;32m-> 1159\u001b[0m predict_results \u001b[38;5;241m=\u001b[39m \u001b[38;5;28mself\u001b[39m\u001b[38;5;241m.\u001b[39mmodel\u001b[38;5;241m.\u001b[39mpredict(\u001b[38;5;28mself\u001b[39m\u001b[38;5;241m.\u001b[39mparams, exog, \u001b[38;5;241m*\u001b[39margs,\n\u001b[0;32m   1160\u001b[0m                                      \u001b[38;5;241m*\u001b[39m\u001b[38;5;241m*\u001b[39mkwargs)\n\u001b[0;32m   1162\u001b[0m \u001b[38;5;28;01mif\u001b[39;00m exog_index \u001b[38;5;129;01mis\u001b[39;00m \u001b[38;5;129;01mnot\u001b[39;00m \u001b[38;5;28;01mNone\u001b[39;00m \u001b[38;5;129;01mand\u001b[39;00m \u001b[38;5;129;01mnot\u001b[39;00m \u001b[38;5;28mhasattr\u001b[39m(predict_results,\n\u001b[0;32m   1163\u001b[0m                                           \u001b[38;5;124m'\u001b[39m\u001b[38;5;124mpredicted_values\u001b[39m\u001b[38;5;124m'\u001b[39m):\n\u001b[0;32m   1164\u001b[0m     \u001b[38;5;28;01mif\u001b[39;00m predict_results\u001b[38;5;241m.\u001b[39mndim \u001b[38;5;241m==\u001b[39m \u001b[38;5;241m1\u001b[39m:\n",
      "File \u001b[1;32m~\\AppData\\Local\\Programs\\Python\\Python39\\lib\\site-packages\\statsmodels\\regression\\linear_model.py:383\u001b[0m, in \u001b[0;36mRegressionModel.predict\u001b[1;34m(self, params, exog)\u001b[0m\n\u001b[0;32m    380\u001b[0m \u001b[38;5;28;01mif\u001b[39;00m exog \u001b[38;5;129;01mis\u001b[39;00m \u001b[38;5;28;01mNone\u001b[39;00m:\n\u001b[0;32m    381\u001b[0m     exog \u001b[38;5;241m=\u001b[39m \u001b[38;5;28mself\u001b[39m\u001b[38;5;241m.\u001b[39mexog\n\u001b[1;32m--> 383\u001b[0m \u001b[38;5;28;01mreturn\u001b[39;00m \u001b[43mnp\u001b[49m\u001b[38;5;241;43m.\u001b[39;49m\u001b[43mdot\u001b[49m\u001b[43m(\u001b[49m\u001b[43mexog\u001b[49m\u001b[43m,\u001b[49m\u001b[43m \u001b[49m\u001b[43mparams\u001b[49m\u001b[43m)\u001b[49m\n",
      "File \u001b[1;32m<__array_function__ internals>:5\u001b[0m, in \u001b[0;36mdot\u001b[1;34m(*args, **kwargs)\u001b[0m\n",
      "\u001b[1;31mValueError\u001b[0m: shapes (1,1) and (3,) not aligned: 1 (dim 1) != 3 (dim 0)"
     ]
    }
   ],
   "source": [
    "import statsmodels.api as sm\n",
    "X=sm.add_constant(X)\n",
    "model = sm.OLS(Y, X)\n",
    "results = model.fit()\n",
    "results.summary()\n",
    "\n",
    "results.predict([[120,3.1]])"
   ]
  }
 ],
 "metadata": {
  "kernelspec": {
   "display_name": "Python 3 (ipykernel)",
   "language": "python",
   "name": "python3"
  },
  "language_info": {
   "codemirror_mode": {
    "name": "ipython",
    "version": 3
   },
   "file_extension": ".py",
   "mimetype": "text/x-python",
   "name": "python",
   "nbconvert_exporter": "python",
   "pygments_lexer": "ipython3",
   "version": "3.9.6"
  }
 },
 "nbformat": 4,
 "nbformat_minor": 4
}
