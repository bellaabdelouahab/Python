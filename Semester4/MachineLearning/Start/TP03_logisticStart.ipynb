{
 "cells": [
  {
   "cell_type": "markdown",
   "metadata": {},
   "source": [
    "#    TP03: Régression logistique\n",
    "\n",
    " La ***régression logistique*** est une autre technique supervisé utilisé en machine learning. C'est la méthode de classification pour les problèmes avec deux classes(0/1).\n",
    " \n",
    " ## I-Algorithm du Gradient de descent\n",
    " \n",
    " -***Hypothèses***: $h_\\theta(x)= \\frac{1}{1+\\exp(-\\theta^Tx)}$\n",
    " \n",
    " $h_\\theta(x)> 0,5 $  quand la classe (étiquette) vaut $Y=1$.\n",
    "    \n",
    "$h_\\theta(x) < 0,5$  quand la classe (étiquette) vaut $Y=0$.\n",
    " \n",
    " ***Paramètres du model***: $\\theta$ avec $m$ examples, $n $ variables\n",
    " \n",
    "***Fonction du coût***:$J(\\theta)=-\\frac{1}{m}\\sum_{i=0}^{m} y(i)\\log(h_\\theta(x(i)))+(1-y(i)) \\log(1-h_\\theta(x(i))$\n",
    " \n",
    "***Objectif***: Trouver les meilleurs paramètres $\\theta$  revient à minimiser  la fonction du coût.\n",
    "\t\t$\t\\min_{\\theta}J(\\theta)$\t\n",
    "\t\t\n",
    "\t\t\n",
    "***Algorithme du Gradient de descent***: $ \\theta_j=\\theta_j-\\alpha\t\\frac{1}{m}\\sum_{i=0}^{m} (h_\\theta(x(i))-y(i))x_j(i)$\n"
   ]
  },
  {
   "cell_type": "markdown",
   "metadata": {},
   "source": [
    "### 1. Recuperation des données\n",
    "#### ***Q1***\n",
    "   -utilisez la fonction ***make_blobs(n_samples,centers, cluster_std,random_state)*** du module ***sklearn.datasets*** pour generer deux classes puis visualiser les deux classes comme suivants:\n",
    "*   rouge: y=0\n",
    "*   blue: y=1\n",
    "<img src=\"log.png\" style=\"with:150px;height:280px\"/>"
   ]
  },
  {
   "cell_type": "code",
   "execution_count": 100,
   "metadata": {},
   "outputs": [
    {
     "data": {
      "image/png": "[encoded data removed]",
      "text/plain": [
       "<Figure size 432x288 with 1 Axes>"
      ]
     },
     "metadata": {
      "needs_background": "light"
     },
     "output_type": "display_data"
    }
   ],
   "source": [
    "from sklearn.datasets import make_blobs\n",
    "from matplotlib import pyplot as plt\n",
    "import numpy as np\n",
    "X,Y = make_blobs(n_samples=100,centers=2,random_state=0)\n",
    "plt.scatter([i[0] for i in X],[i[1] for i in X], c=Y)\n",
    "plt.show()"
   ]
  },
  {
   "cell_type": "markdown",
   "metadata": {},
   "source": [
    "#### ***Q2***   \n",
    "          -a)Corriger les dimentions avec np.reshape\n",
    "      \n",
    "          -b)Créez la matrice X\n",
    "          \n",
    "          -c) Créez le vecteur $\\theta$ (initialisé avec des coefficients nuls)"
   ]
  },
  {
   "cell_type": "code",
   "execution_count": 243,
   "metadata": {},
   "outputs": [],
   "source": [
    "Y1 = np.array(Y.reshape(100,1))\n",
    "X1 = np.array(np.c_[np.ones((len(X), 1)), X])\n",
    "Q = np.zeros((3,1))"
   ]
  },
  {
   "cell_type": "markdown",
   "metadata": {},
   "source": [
    "### 2. Implémentation du modèle et évaluation\n",
    " ####  ***Q1***\n",
    " \n",
    "       "
   ]
  },
  {
   "cell_type": "markdown",
   "metadata": {},
   "source": [
    " a) Implémenter la ***fonction sigmoid*** $h_\\theta(x)= \\frac{1}{1+\\exp(-X\\theta)}$\n",
    " \n",
    " b) Ecrire la ***Fonction du coût***:$J(\\theta)=-\\frac{1}{m}\\sum_{i=0}^{m} y(i)\\log(h_\\theta(x(i)))+(1-y(i)) \\log(1-h_\\theta(x(i))$\n",
    " \n",
    " c) Ecrire un script qui définit la fonction du gradiant $$ \\frac{\\delta J(\\theta)}{\\delta \\theta}=\\frac{1}{m}X^T.(X.\\theta-y)$$\n",
    " \n",
    " d) Implementer la descente de gradient en utilisant de gradiant:\n",
    "$$ \\theta\\leftarrow \\theta- \\alpha\\frac{\\delta J(\\theta)}{\\delta \\theta}$$\n",
    " \n",
    " e) Trouver les valeurs de $\\theta$ pour un learning rate $\\alpha=0.1$ et un nombre d'itérations de $150$"
   ]
  },
  {
   "cell_type": "code",
   "execution_count": 290,
   "metadata": {},
   "outputs": [],
   "source": [
    "# from math import exp\n",
    "# -Q.T[0][0]-sum([Q.T[0][i]*x[i-1] for i in range (1,len(Q.T[0]))])\n",
    "Sigmoid = lambda x,Q:1 / (1 + np.exp(-(x.dot(Q))))"
   ]
  },
  {
   "cell_type": "code",
   "execution_count": 245,
   "metadata": {},
   "outputs": [],
   "source": [
    "cout = lambda X,Y,Q,Sigmoid :\\\n",
    "      -1/len(X)*(sum([Y[i]*log(Sigmoid(X[i],Q))+(1-Y[i])*log(1-Sigmoid(X[i],Q))\\\n",
    "      for i in range(len(X))]))"
   ]
  },
  {
   "cell_type": "code",
   "execution_count": 246,
   "metadata": {},
   "outputs": [],
   "source": [
    "Gradian = lambda X,Q,Y :1/len(X)*(X.T.dot(X.dot(Q)-Y))"
   ]
  },
  {
   "cell_type": "code",
   "execution_count": 247,
   "metadata": {},
   "outputs": [],
   "source": [
    "Gradian_Discent = lambda Q,X,Y,lr : Q - Gradian(X,Q,Y)*lr"
   ]
  },
  {
   "cell_type": "code",
   "execution_count": 291,
   "metadata": {},
   "outputs": [
    {
     "name": "stdout",
     "output_type": "stream",
     "text": [
      "[[0.]\n",
      " [0.]\n",
      " [0.]]\n"
     ]
    },
    {
     "data": {
      "text/plain": [
       "array([[ 0.83317053],\n",
       "       [ 0.10081653],\n",
       "       [-0.18427743]])"
      ]
     },
     "execution_count": 291,
     "metadata": {},
     "output_type": "execute_result"
    }
   ],
   "source": [
    "Q1=Q\n",
    "print(Q1)\n",
    "lr=0.1\n",
    "for i in range(150):\n",
    "    Q1 = Gradian_Discent(Q1,X1,Y1,lr)\n",
    "Q1"
   ]
  },
  {
   "cell_type": "markdown",
   "metadata": {},
   "source": [
    " ####  ***Q2***\n",
    " \n",
    " a) Evaluer le modèle en calculant le coefficient de corrélation\n",
    " \n",
    " b) Tracer la courbe d'apprantissage"
   ]
  },
  {
   "cell_type": "code",
   "execution_count": 298,
   "metadata": {},
   "outputs": [
    {
     "name": "stdout",
     "output_type": "stream",
     "text": [
      "(100, 3) (3, 1)\n",
      "0 [0.46727869]\n",
      "0.2404258744464124\n"
     ]
    }
   ],
   "source": [
    "\n",
    "print(X1.shape,Q1.shape)\n",
    "# print(Sigmoid(np.array([3,1]),Q1))\n",
    "print(Y[2],Sigmoid(X1[2],Q1))\n",
    "cov = lambda x,y : 1-((sum(([(y[i]-Sigmoid(x[i],Q1)[0])**2 for i in range(len(y))]))/sum([(y[i]-np.mean(y))**2 for i in range(len(y))])))\n",
    "print(cov(X1,Y))\n"
   ]
  },
  {
   "cell_type": "code",
   "execution_count": null,
   "metadata": {},
   "outputs": [],
   "source": []
  },
  {
   "cell_type": "code",
   "execution_count": null,
   "metadata": {},
   "outputs": [],
   "source": [
    "   "
   ]
  },
  {
   "cell_type": "markdown",
   "metadata": {},
   "source": [
    "### 3. Prédiction\n",
    "\n",
    "A quelle classe apartient les deux points suivants: x1=(1,5); x2(3,1) "
   ]
  },
  {
   "cell_type": "code",
   "execution_count": 302,
   "metadata": {},
   "outputs": [
    {
     "name": "stdout",
     "output_type": "stream",
     "text": [
      "[0.72138512]\n"
     ]
    }
   ],
   "source": [
    "print(Sigmoid(np.array([1,3,1]),Q1))"
   ]
  },
  {
   "cell_type": "markdown",
   "metadata": {},
   "source": [
    "## II- Utilisation des modules python\n",
    "### 1. Récuperation des données\n",
    "Les données sont stocker dans le fichier banking.csv. Ce dataset contient des information collecter par un centre d'appel pour savoir si un client souscrira (1/0) à un dépôt à terme (variable y) dans une baque.\n",
    "\n",
    "1-Recuperer les données de ce fichier dans un DataFrame data\n",
    "\n",
    "2-Afficher les 10 premiere ligne de ce dataframe\n",
    "\n",
    "3-Afficher le nombre de client par class (1/0)"
   ]
  },
  {
   "cell_type": "code",
   "execution_count": 303,
   "metadata": {},
   "outputs": [
    {
     "data": {
      "text/html": [
       "<div>\n",
       "<style scoped>\n",
       "    .dataframe tbody tr th:only-of-type {\n",
       "        vertical-align: middle;\n",
       "    }\n",
       "\n",
       "    .dataframe tbody tr th {\n",
       "        vertical-align: top;\n",
       "    }\n",
       "\n",
       "    .dataframe thead th {\n",
       "        text-align: right;\n",
       "    }\n",
       "</style>\n",
       "<table border=\"1\" class=\"dataframe\">\n",
       "  <thead>\n",
       "    <tr style=\"text-align: right;\">\n",
       "      <th></th>\n",
       "      <th></th>\n",
       "      <th></th>\n",
       "      <th></th>\n",
       "      <th></th>\n",
       "      <th></th>\n",
       "      <th></th>\n",
       "      <th></th>\n",
       "      <th></th>\n",
       "      <th></th>\n",
       "      <th></th>\n",
       "      <th></th>\n",
       "      <th></th>\n",
       "      <th></th>\n",
       "      <th></th>\n",
       "      <th></th>\n",
       "      <th></th>\n",
       "      <th></th>\n",
       "      <th></th>\n",
       "      <th></th>\n",
       "      <th>\"age\",job,marital,education,default,housing,loan,contact,month,day_of_week,duration,campaign,pdays,previous,poutcome,emp_var_rate,cons_price_idx,cons_conf_idx,euribor3m,nr_employed,\"y\"</th>\n",
       "    </tr>\n",
       "  </thead>\n",
       "  <tbody>\n",
       "    <tr>\n",
       "      <th>44</th>\n",
       "      <th>blue-collar</th>\n",
       "      <th>married</th>\n",
       "      <th>basic.4y</th>\n",
       "      <th>unknown</th>\n",
       "      <th>yes</th>\n",
       "      <th>no</th>\n",
       "      <th>cellular</th>\n",
       "      <th>aug</th>\n",
       "      <th>thu</th>\n",
       "      <th>210</th>\n",
       "      <th>1</th>\n",
       "      <th>999</th>\n",
       "      <th>0</th>\n",
       "      <th>nonexistent</th>\n",
       "      <th>1.4</th>\n",
       "      <th>93.444</th>\n",
       "      <th>-36.1</th>\n",
       "      <th>4.963</th>\n",
       "      <th>5228.1</th>\n",
       "      <td>0</td>\n",
       "    </tr>\n",
       "    <tr>\n",
       "      <th>53</th>\n",
       "      <th>technician</th>\n",
       "      <th>married</th>\n",
       "      <th>unknown</th>\n",
       "      <th>no</th>\n",
       "      <th>no</th>\n",
       "      <th>no</th>\n",
       "      <th>cellular</th>\n",
       "      <th>nov</th>\n",
       "      <th>fri</th>\n",
       "      <th>138</th>\n",
       "      <th>1</th>\n",
       "      <th>999</th>\n",
       "      <th>0</th>\n",
       "      <th>nonexistent</th>\n",
       "      <th>-0.1</th>\n",
       "      <th>93.200</th>\n",
       "      <th>-42.0</th>\n",
       "      <th>4.021</th>\n",
       "      <th>5195.8</th>\n",
       "      <td>0</td>\n",
       "    </tr>\n",
       "    <tr>\n",
       "      <th>28</th>\n",
       "      <th>management</th>\n",
       "      <th>single</th>\n",
       "      <th>university.degree</th>\n",
       "      <th>no</th>\n",
       "      <th>yes</th>\n",
       "      <th>no</th>\n",
       "      <th>cellular</th>\n",
       "      <th>jun</th>\n",
       "      <th>thu</th>\n",
       "      <th>339</th>\n",
       "      <th>3</th>\n",
       "      <th>6</th>\n",
       "      <th>2</th>\n",
       "      <th>success</th>\n",
       "      <th>-1.7</th>\n",
       "      <th>94.055</th>\n",
       "      <th>-39.8</th>\n",
       "      <th>0.729</th>\n",
       "      <th>4991.6</th>\n",
       "      <td>1</td>\n",
       "    </tr>\n",
       "    <tr>\n",
       "      <th>39</th>\n",
       "      <th>services</th>\n",
       "      <th>married</th>\n",
       "      <th>high.school</th>\n",
       "      <th>no</th>\n",
       "      <th>no</th>\n",
       "      <th>no</th>\n",
       "      <th>cellular</th>\n",
       "      <th>apr</th>\n",
       "      <th>fri</th>\n",
       "      <th>185</th>\n",
       "      <th>2</th>\n",
       "      <th>999</th>\n",
       "      <th>0</th>\n",
       "      <th>nonexistent</th>\n",
       "      <th>-1.8</th>\n",
       "      <th>93.075</th>\n",
       "      <th>-47.1</th>\n",
       "      <th>1.405</th>\n",
       "      <th>5099.1</th>\n",
       "      <td>0</td>\n",
       "    </tr>\n",
       "    <tr>\n",
       "      <th>55</th>\n",
       "      <th>retired</th>\n",
       "      <th>married</th>\n",
       "      <th>basic.4y</th>\n",
       "      <th>no</th>\n",
       "      <th>yes</th>\n",
       "      <th>no</th>\n",
       "      <th>cellular</th>\n",
       "      <th>aug</th>\n",
       "      <th>fri</th>\n",
       "      <th>137</th>\n",
       "      <th>1</th>\n",
       "      <th>3</th>\n",
       "      <th>1</th>\n",
       "      <th>success</th>\n",
       "      <th>-2.9</th>\n",
       "      <th>92.201</th>\n",
       "      <th>-31.4</th>\n",
       "      <th>0.869</th>\n",
       "      <th>5076.2</th>\n",
       "      <td>1</td>\n",
       "    </tr>\n",
       "    <tr>\n",
       "      <th>30</th>\n",
       "      <th>management</th>\n",
       "      <th>divorced</th>\n",
       "      <th>basic.4y</th>\n",
       "      <th>no</th>\n",
       "      <th>yes</th>\n",
       "      <th>no</th>\n",
       "      <th>cellular</th>\n",
       "      <th>jul</th>\n",
       "      <th>tue</th>\n",
       "      <th>68</th>\n",
       "      <th>8</th>\n",
       "      <th>999</th>\n",
       "      <th>0</th>\n",
       "      <th>nonexistent</th>\n",
       "      <th>1.4</th>\n",
       "      <th>93.918</th>\n",
       "      <th>-42.7</th>\n",
       "      <th>4.961</th>\n",
       "      <th>5228.1</th>\n",
       "      <td>0</td>\n",
       "    </tr>\n",
       "    <tr>\n",
       "      <th>37</th>\n",
       "      <th>blue-collar</th>\n",
       "      <th>married</th>\n",
       "      <th>basic.4y</th>\n",
       "      <th>no</th>\n",
       "      <th>yes</th>\n",
       "      <th>no</th>\n",
       "      <th>cellular</th>\n",
       "      <th>may</th>\n",
       "      <th>thu</th>\n",
       "      <th>204</th>\n",
       "      <th>1</th>\n",
       "      <th>999</th>\n",
       "      <th>0</th>\n",
       "      <th>nonexistent</th>\n",
       "      <th>-1.8</th>\n",
       "      <th>92.893</th>\n",
       "      <th>-46.2</th>\n",
       "      <th>1.327</th>\n",
       "      <th>5099.1</th>\n",
       "      <td>0</td>\n",
       "    </tr>\n",
       "    <tr>\n",
       "      <th>39</th>\n",
       "      <th>blue-collar</th>\n",
       "      <th>divorced</th>\n",
       "      <th>basic.9y</th>\n",
       "      <th>no</th>\n",
       "      <th>yes</th>\n",
       "      <th>no</th>\n",
       "      <th>cellular</th>\n",
       "      <th>may</th>\n",
       "      <th>fri</th>\n",
       "      <th>191</th>\n",
       "      <th>1</th>\n",
       "      <th>999</th>\n",
       "      <th>0</th>\n",
       "      <th>nonexistent</th>\n",
       "      <th>-1.8</th>\n",
       "      <th>92.893</th>\n",
       "      <th>-46.2</th>\n",
       "      <th>1.313</th>\n",
       "      <th>5099.1</th>\n",
       "      <td>0</td>\n",
       "    </tr>\n",
       "    <tr>\n",
       "      <th>36</th>\n",
       "      <th>admin.</th>\n",
       "      <th>married</th>\n",
       "      <th>university.degree</th>\n",
       "      <th>no</th>\n",
       "      <th>no</th>\n",
       "      <th>no</th>\n",
       "      <th>cellular</th>\n",
       "      <th>jun</th>\n",
       "      <th>mon</th>\n",
       "      <th>174</th>\n",
       "      <th>1</th>\n",
       "      <th>3</th>\n",
       "      <th>1</th>\n",
       "      <th>success</th>\n",
       "      <th>-2.9</th>\n",
       "      <th>92.963</th>\n",
       "      <th>-40.8</th>\n",
       "      <th>1.266</th>\n",
       "      <th>5076.2</th>\n",
       "      <td>1</td>\n",
       "    </tr>\n",
       "    <tr>\n",
       "      <th>27</th>\n",
       "      <th>blue-collar</th>\n",
       "      <th>single</th>\n",
       "      <th>basic.4y</th>\n",
       "      <th>no</th>\n",
       "      <th>yes</th>\n",
       "      <th>no</th>\n",
       "      <th>cellular</th>\n",
       "      <th>apr</th>\n",
       "      <th>thu</th>\n",
       "      <th>191</th>\n",
       "      <th>2</th>\n",
       "      <th>999</th>\n",
       "      <th>1</th>\n",
       "      <th>failure</th>\n",
       "      <th>-1.8</th>\n",
       "      <th>93.075</th>\n",
       "      <th>-47.1</th>\n",
       "      <th>1.410</th>\n",
       "      <th>5099.1</th>\n",
       "      <td>0</td>\n",
       "    </tr>\n",
       "  </tbody>\n",
       "</table>\n",
       "</div>"
      ],
      "text/plain": [
       "                                                                                                                                  \"age\",job,marital,education,default,housing,loan,contact,month,day_of_week,duration,campaign,pdays,previous,poutcome,emp_var_rate,cons_price_idx,cons_conf_idx,euribor3m,nr_employed,\"y\"\n",
       "44 blue-collar married  basic.4y          unknown yes no cellular aug thu 210 1 999 0 nonexistent  1.4 93.444 -36.1 4.963 5228.1                                                  0                                                                                                                                       \n",
       "53 technician  married  unknown           no      no  no cellular nov fri 138 1 999 0 nonexistent -0.1 93.200 -42.0 4.021 5195.8                                                  0                                                                                                                                       \n",
       "28 management  single   university.degree no      yes no cellular jun thu 339 3 6   2 success     -1.7 94.055 -39.8 0.729 4991.6                                                  1                                                                                                                                       \n",
       "39 services    married  high.school       no      no  no cellular apr fri 185 2 999 0 nonexistent -1.8 93.075 -47.1 1.405 5099.1                                                  0                                                                                                                                       \n",
       "55 retired     married  basic.4y          no      yes no cellular aug fri 137 1 3   1 success     -2.9 92.201 -31.4 0.869 5076.2                                                  1                                                                                                                                       \n",
       "30 management  divorced basic.4y          no      yes no cellular jul tue 68  8 999 0 nonexistent  1.4 93.918 -42.7 4.961 5228.1                                                  0                                                                                                                                       \n",
       "37 blue-collar married  basic.4y          no      yes no cellular may thu 204 1 999 0 nonexistent -1.8 92.893 -46.2 1.327 5099.1                                                  0                                                                                                                                       \n",
       "39 blue-collar divorced basic.9y          no      yes no cellular may fri 191 1 999 0 nonexistent -1.8 92.893 -46.2 1.313 5099.1                                                  0                                                                                                                                       \n",
       "36 admin.      married  university.degree no      no  no cellular jun mon 174 1 3   1 success     -2.9 92.963 -40.8 1.266 5076.2                                                  1                                                                                                                                       \n",
       "27 blue-collar single   basic.4y          no      yes no cellular apr thu 191 2 999 1 failure     -1.8 93.075 -47.1 1.410 5099.1                                                  0                                                                                                                                       "
      ]
     },
     "execution_count": 303,
     "metadata": {},
     "output_type": "execute_result"
    }
   ],
   "source": [
    "import pandas as pd\n",
    "db = pd.read_csv(\"banking.csv\")\n",
    "db.head(10)"
   ]
  },
  {
   "cell_type": "code",
   "execution_count": 306,
   "metadata": {},
   "outputs": [],
   "source": [
    "db[\"y\"].value_counts()"
   ]
  },
  {
   "cell_type": "markdown",
   "metadata": {},
   "source": [
    "### 2- Entrainement et test du modèle\n",
    "Dans un premier lieux, nous allons utiliser comme critères de classifiction suivants:\n",
    "\"age\": l'age du client\n",
    "\"emp_var_rate\": employment variation rate\n",
    "\"cons_conf_idx\": consumer confidence index\n",
    "\n",
    "1- Creer deux numpy array X et y\n",
    "\n",
    "X: les trois colonne \"age\",\"emp_var_rate\" et \"cons_conf_idx\"\n",
    "\n",
    "y: \"y\"\n",
    "\n",
    "2- Nous allons utiliser **80%** du dataSet pour l'entrainement et **20%** pour le teste du modèle. utiliser la méthode **train_test_split()** du module **sklearn.model_selection** pour créer ces deux sous ensembles (X_train,X_test,y_train,y_test).\n",
    "\n",
    "3- Creer un objet **LogisticRegression** du module **sklearn.linear_model** et utiliser **(X_train,y_train)** pour entrainer le model à l'aide la méthode **fit()** du même objet.\n",
    "\n",
    "4- Utiliser la méthode **predict(X_test)** pour predire les classe des élément de X_test : y_pred\n",
    "\n",
    "5- Les performences du modele sont alors mesurer à l'aide 4 metriques:\n",
    "**TP: Nombre de True positives y_test==y_pred==1**\n",
    "\n",
    "**TN: Nombre de True negatives y_test==y_pred==0**\n",
    "\n",
    "**FP: Nombre de False positives y_test!=y_pred==1**\n",
    "\n",
    "**FN: Nombre de False negatives y_test!=y_pred==0**\n",
    "\n",
    "\n",
    "**$$Accuracy = (TP+TN)/(TP+TN+FP+FN) $$**\n",
    "\n",
    "Calculer la precision de ce modèle?\n",
    "\n",
    "6- Ces 4 metriques forment ce qu'on appel une **Confusion Matrix** disponible comme méthode dans le module **sklearn.metrics** :  **Confusion Matrix(y_test, y_pred)**\n",
    "\n",
    "Recalculer precision de ce modèle on utilisant cette matrice de confusion"
   ]
  },
  {
   "cell_type": "code",
   "execution_count": 308,
   "metadata": {},
   "outputs": [],
   "source": [
    "X = np.array([[i , j , z] for  i , j , z in zip (db[\"age\"].to_list() , db[\"emp_var_rate\"].to_list() , db[\"cons_price_idx\"].to_list())])\n",
    "Y = np.array([i for i in db['y'].to_list()])"
   ]
  },
  {
   "cell_type": "code",
   "execution_count": null,
   "metadata": {},
   "outputs": [],
   "source": [
    "from sklearn.model_selection import train_test_split\n",
    "X_train, X_test, Y_train, Y_test = train_test_split(X, Y, test_size=0.75, random_state=0)"
   ]
  },
  {
   "cell_type": "code",
   "execution_count": null,
   "metadata": {},
   "outputs": [],
   "source": [
    "from sklearn.linear_model import LogisticRegression\n",
    "cfs = LogisticRegression().fit(X_train, Y_train)"
   ]
  },
  {
   "cell_type": "code",
   "execution_count": null,
   "metadata": {},
   "outputs": [],
   "source": [
    "new_predect = cfs.predict(X_test)"
   ]
  },
  {
   "cell_type": "code",
   "execution_count": null,
   "metadata": {},
   "outputs": [],
   "source": [
    "from sklearn.metrics import confusion_matrix\n",
    "confusion_matrix(Y_test, new_predect)"
   ]
  },
  {
   "cell_type": "code",
   "execution_count": null,
   "metadata": {},
   "outputs": [],
   "source": [
    "cfs.score(X_train, Y_train)"
   ]
  },
  {
   "cell_type": "markdown",
   "metadata": {},
   "source": [
    "### 3- prediction\n",
    "Voici des information de trois clients:\n",
    "\n",
    "client1:  {\"age\": 55, \"emp_var_rate\": -2.9, \"cons_conf_idx\": 31.4}\n",
    "\n",
    "client2:  {\"age\": 45, \"emp_var_rate\": 3.7,\"cons_conf_idx\": 4}\n",
    "\n",
    "client3:  {\"age\": 39, \"emp_var_rate\": 3.3,\"cons_conf_idx\": 6}\n",
    "\n",
    "1- Créer un DataFrame à partir de ce données\n",
    "\n",
    "2- Lequel de ces client souscrira à un dépôt à terme"
   ]
  },
  {
   "cell_type": "code",
   "execution_count": null,
   "metadata": {},
   "outputs": [],
   "source": [
    "data = {\n",
    "    'client1': [55,-2.9 , 31.4],\n",
    "    'client2': [45, 3.7 , 4],\n",
    "    'client3': [39, 3.3 , 6]\n",
    "}\n",
    "\n",
    "test = pd.DataFrame(pd.DataFrame.from_dict(data, orient='index',  columns=['age', 'emp_var_rate', 'cons_conf_idx']))"
   ]
  },
  {
   "cell_type": "code",
   "execution_count": null,
   "metadata": {},
   "outputs": [],
   "source": [
    "new_X_test = np.array([[i , j , z] for  i , j , z in zip (test[\"age\"].to_list() , test[\"emp_var_rate\"].to_list() , test[\"cons_conf_idx\"].to_list())])\n",
    "test_predect = cfs.predict(new_X_test)"
   ]
  },
  {
   "cell_type": "code",
   "execution_count": null,
   "metadata": {},
   "outputs": [],
   "source": [
    "test_predect"
   ]
  }
 ],
 "metadata": {
  "kernelspec": {
   "display_name": "Python 3 (ipykernel)",
   "language": "python",
   "name": "python3"
  },
  "language_info": {
   "codemirror_mode": {
    "name": "ipython",
    "version": 3
   },
   "file_extension": ".py",
   "mimetype": "text/x-python",
   "name": "python",
   "nbconvert_exporter": "python",
   "pygments_lexer": "ipython3",
   "version": "3.9.6"
  }
 },
 "nbformat": 4,
 "nbformat_minor": 4
}
