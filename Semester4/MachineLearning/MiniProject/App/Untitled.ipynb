{
 "cells": [
  {
   "cell_type": "code",
   "execution_count": 82,
   "id": "bd1da704",
   "metadata": {},
   "outputs": [],
   "source": [
    "import librosa\n",
    "import IPython.display as ipd\n",
    "import sounddevice as sd\n",
    "import numpy as np\n",
    "from scipy.io.wavfile import write\n",
    "import time\n",
    "#import an audio wav\n",
    "\n",
    "#'C:/Users/Abdelouahab/Downloads/female/en-0532.wav'\n",
    "\n",
    "Data, fs = librosa.load('C:/Users/Abdelouahab/Documents/M&M/Aaron-20080318-kdl/wav/b0020.wav')"
   ]
  },
  {
   "cell_type": "code",
   "execution_count": 83,
   "id": "9b3c1eed",
   "metadata": {},
   "outputs": [],
   "source": [
    "#play your imported audio --numpy\n",
    "def playaudio(audio,freqns):\n",
    "    sd.play(audio, freqns)\n",
    "    sd.wait()\n",
    "playaudio(Data,fs)"
   ]
  },
  {
   "cell_type": "code",
   "execution_count": 3,
   "id": "69550bf6",
   "metadata": {},
   "outputs": [],
   "source": [
    "#save a recorded audio --numpy \n",
    "def SaveRecord(recording:np.ndarray,fs: int):\n",
    "    write('sounds/audio'+ str(int(time.time())) +'.wav', fs, recording)"
   ]
  },
  {
   "cell_type": "code",
   "execution_count": 85,
   "id": "adc2ee1e",
   "metadata": {},
   "outputs": [],
   "source": [
    "#this function takes an numpy audio and return the spectral properties below\n",
    "def spectral_properties(y: np.ndarray, fs: int) -> dict:\n",
    "    spec = np.abs(np.fft.rfft(y))\n",
    "    freq = np.fft.rfftfreq(len(y), d=1/fs)\n",
    "    spec = np.abs(spec)\n",
    "    amp = spec / spec.sum()\n",
    "    mean = (freq * amp).sum()\n",
    "    sd = np.sqrt(np.sum(amp * ((freq - mean) ** 2)))\n",
    "    amp_cumsum = np.cumsum(amp)\n",
    "    median = freq[len(amp_cumsum[amp_cumsum <= 0.5]) + 1]\n",
    "    mode = freq[amp.argmax()]\n",
    "    Q25 = freq[len(amp_cumsum[amp_cumsum <= 0.25]) + 1]\n",
    "    Q75 = freq[len(amp_cumsum[amp_cumsum <= 0.75]) + 1]\n",
    "    IQR = Q75 - Q25\n",
    "    z = amp - amp.mean()\n",
    "    w = amp.std()\n",
    "    skew = ((z ** 3).sum() / (len(spec) - 1)) / w ** 3\n",
    "    kurt = ((z ** 4).sum() / (len(spec) - 1)) / w ** 4\n",
    "    result_d = {\n",
    "        'meanfreq': mean/1000,\n",
    "        'sd': sd/1000,\n",
    "        'median': median/1000,\n",
    "        'mode': mode/1000,\n",
    "        'Q25': Q25/1000,\n",
    "        'Q75': Q75/1000,\n",
    "        'IQR': IQR,\n",
    "        'skew': skew,\n",
    "        'kurt': kurt/1000,\n",
    "    }\n",
    "    return result_d"
   ]
  },
  {
   "cell_type": "code",
   "execution_count": 8,
   "id": "814a124d",
   "metadata": {},
   "outputs": [
    {
     "data": {
      "text/plain": [
       "{'meanfreq': 1075.5447081857767,\n",
       " 'sd': 919.7310898835849,\n",
       " 'median': 722.8773773156379,\n",
       " 'Q25': 404.6385319236937,\n",
       " 'Q75': 1514.5545050176688,\n",
       " 'IQR': 1109.915973093975,\n",
       " 'skew': 4.205775251095901,\n",
       " 'kurt': 26.069438926838146,\n",
       " 'mode': 450.2383664821171}"
      ]
     },
     "execution_count": 8,
     "metadata": {},
     "output_type": "execute_result"
    }
   ],
   "source": [
    "spectral_properties(Data,fs)"
   ]
  },
  {
   "cell_type": "code",
   "execution_count": 96,
   "id": "d3afcc1f",
   "metadata": {},
   "outputs": [],
   "source": [
    "import time \n",
    "time.sleep(1)\n",
    "duration = 3 #audion lenght\n",
    "fs = 48000 #frequence\n",
    "channels = 2 #how many voice input on your pc\n",
    "# record your own audio\n",
    "recorded = sd.rec(int(duration * fs), samplerate=fs, channels=channels)\n",
    "sd.wait()\n",
    "Data= recorded"
   ]
  },
  {
   "cell_type": "code",
   "execution_count": 88,
   "id": "0e6615d5",
   "metadata": {},
   "outputs": [
    {
     "ename": "NameError",
     "evalue": "name 'SaveRecord' is not defined",
     "output_type": "error",
     "traceback": [
      "\u001b[1;31m---------------------------------------------------------------------------\u001b[0m",
      "\u001b[1;31mNameError\u001b[0m                                 Traceback (most recent call last)",
      "Input \u001b[1;32mIn [88]\u001b[0m, in \u001b[0;36m<module>\u001b[1;34m\u001b[0m\n\u001b[1;32m----> 1\u001b[0m \u001b[43mSaveRecord\u001b[49m(recorded, fs)\n",
      "\u001b[1;31mNameError\u001b[0m: name 'SaveRecord' is not defined"
     ]
    }
   ],
   "source": [
    "SaveRecord(recorded, fs)"
   ]
  },
  {
   "cell_type": "code",
   "execution_count": 98,
   "id": "fadba2d2",
   "metadata": {},
   "outputs": [
    {
     "name": "stdout",
     "output_type": "stream",
     "text": [
      "Index(['meanfreq', 'sd', 'median', 'Q25', 'Q75', 'IQR', 'skew', 'kurt',\n",
      "       'sp.ent', 'sfm', 'mode', 'centroid', 'meanfun', 'minfun', 'maxfun',\n",
      "       'meandom', 'mindom', 'maxdom', 'dfrange', 'modindx', 'label'],\n",
      "      dtype='object')\n",
      "Data Frame Shape: (3168, 21)\n",
      "          meanfreq           sd       median          Q25          Q75  \\\n",
      "count  3168.000000  3168.000000  3168.000000  3168.000000  3168.000000   \n",
      "mean      0.180907     0.057126     0.185621     0.140456     0.224765   \n",
      "std       0.029918     0.016652     0.036360     0.048680     0.023639   \n",
      "min       0.039363     0.018363     0.010975     0.000229     0.042946   \n",
      "25%       0.163662     0.041954     0.169593     0.111087     0.208747   \n",
      "50%       0.184838     0.059155     0.190032     0.140286     0.225684   \n",
      "75%       0.199146     0.067020     0.210618     0.175939     0.243660   \n",
      "max       0.251124     0.115273     0.261224     0.247347     0.273469   \n",
      "\n",
      "               IQR         skew         kurt         mode  \n",
      "count  3168.000000  3168.000000  3168.000000  3168.000000  \n",
      "mean      0.084309     3.140168    36.568461     0.165282  \n",
      "std       0.042783     4.240529   134.928661     0.077203  \n",
      "min       0.014558     0.141735     2.068455     0.000000  \n",
      "25%       0.042560     1.649569     5.669547     0.118016  \n",
      "50%       0.094280     2.197101     8.318463     0.186599  \n",
      "75%       0.114175     2.931694    13.648905     0.221104  \n",
      "max       0.252225    34.725453  1309.612887     0.280000  \n"
     ]
    },
    {
     "data": {
      "image/png": "[encoded data removed]",
      "text/plain": [
       "<Figure size 432x288 with 2 Axes>"
      ]
     },
     "metadata": {
      "needs_background": "light"
     },
     "output_type": "display_data"
    },
    {
     "name": "stdout",
     "output_type": "stream",
     "text": [
      "0.9391343552750225\n"
     ]
    }
   ],
   "source": [
    "import pandas as pd\n",
    "from sklearn.model_selection import train_test_split\n",
    "import seaborn as sns\n",
    "from matplotlib import pyplot as plt\n",
    "from sklearn.ensemble import RandomForestClassifier\n",
    "def NormalizeData(Data,Max,Min):\n",
    "        return (Data - Min )/ (Max - Min)\n",
    "def Main():\n",
    "    VoiceDataSet = pd.read_csv(\"C:/Git-hub/Python/Semester4/MachineLearning/MiniProject/App/voice.csv\")\n",
    "    # Print head\n",
    "#     VoiceDataSet = VoiceDataSet.drop(['Unnamed: 0'], axis=1)\n",
    "#     print(VoiceDataSet.head())\n",
    "    \n",
    "    \n",
    "    # nbr of clumns\n",
    "    print(VoiceDataSet.columns)\n",
    "    # change colomn data type\n",
    "#     for i in range(len(VoiceDataSet.columns)-1):\n",
    "#         VoiceDataSet.astype({VoiceDataSet.columns[i]: 'int32'}).dtypes\n",
    "    # shuffle data for more training compatibilty\n",
    "#     VoiceDataSet = VoiceDataSet.reindex(np.random.permutation(VoiceDataSet.index))\n",
    "    VoiceDataSet = VoiceDataSet.sample(frac=1).reset_index(drop=True)\n",
    "    #dataframe shape\n",
    "    print(\"Data Frame Shape:\",VoiceDataSet.shape)\n",
    "    \n",
    "#     VoiceDataSet = VoiceDataSet[VoiceDataSet[\"10\"] != \"other\"]\n",
    "#     VoiceDataSet=VoiceDataSet.sort_values(by=['10'])\n",
    "    #counting values male and female\n",
    "#     VoiceDataSet = VoiceDataSet[0:40]\n",
    "#     print(VoiceDataSet[\"10\"].value_counts())\n",
    "    VoiceDataSet = VoiceDataSet.drop(['sp.ent','sfm','centroid','meanfun','minfun','maxfun','meandom','mindom','maxdom','dfrange','modindx',], axis=1)\n",
    "    print(VoiceDataSet.describe())\n",
    "\n",
    "    #show the Relations between attributes\n",
    "    correlation = VoiceDataSet.corr()\n",
    "    sns.heatmap(correlation)\n",
    "    plt.show()\n",
    "    \n",
    "    \n",
    "    # extract attributes\n",
    "    X_ = VoiceDataSet.drop(['label'], axis=1)\n",
    "#     Xnorm=np.zeros(len(X_))\n",
    "#     from sklearn.preprocessing import normalize\n",
    "#     for i in range(9):\n",
    "#         X_[X_.columns[i]] = NormalizeData(X_[X_.columns[i]],max(X_[X_.columns[i]]),min(X_[X_.columns[i]]))\n",
    "#         print(arr1)\n",
    "#         Xnorm = np.c_[Xnorm, arr1]\n",
    "#     print(X_)\n",
    "    # extract Labeles/targets\n",
    "    Y_ = VoiceDataSet['label']\n",
    "    #split data \n",
    "    X_train , X_test , y_train , y_test = train_test_split(X_,Y_, test_size=0.7)\n",
    "    \n",
    "    # initualize random forest algo\n",
    "    Model = RandomForestClassifier(random_state=0)\n",
    "\n",
    "    Model.fit(X_train,y_train)\n",
    "    \n",
    "    # Print the model score\n",
    "    print(Model.score(X_test,y_test))\n",
    "     \n",
    "    return Model\n",
    "Model = Main()"
   ]
  },
  {
   "cell_type": "code",
   "execution_count": 97,
   "id": "bcee4d82",
   "metadata": {},
   "outputs": [
    {
     "name": "stdout",
     "output_type": "stream",
     "text": [
      "{'mean': 2.8837425472042706, 'sd': 3.155853564674591, 'median': 1.2553333333333332, 'mode': 0.036, 'Q25': 0.16966666666666666, 'Q75': 5.766333333333333, 'IQR': 5596.666666666666, 'skew': 36.27743489750397, 'kurt': 1.780628036809368}\n"
     ]
    },
    {
     "name": "stderr",
     "output_type": "stream",
     "text": [
      "C:\\Users\\Abdelouahab\\AppData\\Local\\Programs\\Python\\Python39\\lib\\site-packages\\sklearn\\base.py:493: FutureWarning: The feature names should match those that were passed during fit. Starting version 1.2, an error will be raised.\n",
      "Feature names unseen at fit time:\n",
      "- mean\n",
      "Feature names seen at fit time, yet now missing:\n",
      "- meanfreq\n",
      "\n",
      "  warnings.warn(message, FutureWarning)\n"
     ]
    },
    {
     "data": {
      "text/plain": [
       "array(['female'], dtype=object)"
      ]
     },
     "execution_count": 97,
     "metadata": {},
     "output_type": "execute_result"
    }
   ],
   "source": [
    "procceddata = spectral_properties(Data[:,0],fs)\n",
    "sd.play(Data, fs)\n",
    "sd.wait()\n",
    "print(procceddata)\n",
    "Xpred = pd.DataFrame(procceddata,index=[0])\n",
    "Xpred.head()\n",
    "Model.predict(Xpred)\n"
   ]
  }
 ],
 "metadata": {
  "kernelspec": {
   "display_name": "Python 3 (ipykernel)",
   "language": "python",
   "name": "python3"
  },
  "language_info": {
   "codemirror_mode": {
    "name": "ipython",
    "version": 3
   },
   "file_extension": ".py",
   "mimetype": "text/x-python",
   "name": "python",
   "nbconvert_exporter": "python",
   "pygments_lexer": "ipython3",
   "version": "3.9.6"
  }
 },
 "nbformat": 4,
 "nbformat_minor": 5
}
