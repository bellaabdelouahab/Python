{
 "cells": [
  {
   "cell_type": "code",
   "execution_count": 11,
   "id": "12dac661",
   "metadata": {},
   "outputs": [],
   "source": [
    "import librosa\n",
    "import IPython.display as ipd\n",
    "import sounddevice as sd\n",
    "import numpy as np\n",
    "data, fs = librosa.load('C:/Git-hub/Python/Semester4/MachineLearning/MiniProject/App/sounds/w.wav')\n",
    "# ipd.Audio(data,fs)"
   ]
  },
  {
   "cell_type": "code",
   "execution_count": 8,
   "id": "72e783d2",
   "metadata": {},
   "outputs": [],
   "source": [
    "sd.play(data, fs)\n",
    "sd.wait()"
   ]
  },
  {
   "cell_type": "code",
   "execution_count": 12,
   "id": "0000adea",
   "metadata": {},
   "outputs": [],
   "source": [
    "def SaveRecord(recording:np.ndarray,fs: int):\n",
    "    write('sounds/recording.wav', fs, recording)"
   ]
  },
  {
   "cell_type": "code",
   "execution_count": 14,
   "id": "40239376",
   "metadata": {},
   "outputs": [],
   "source": [
    "def spectral_properties(y: np.ndarray, fs: int) -> dict:\n",
    "    spec = np.abs(np.fft.rfft(y))\n",
    "    freq = np.fft.rfftfreq(len(y), d=1/fs)\n",
    "    spec = np.abs(spec)\n",
    "    amp = spec / spec.sum()\n",
    "    mean = (freq * amp).sum()\n",
    "    sd = np.sqrt(np.sum(amp * ((freq - mean) ** 2)))\n",
    "    amp_cumsum = np.cumsum(amp)\n",
    "    median = freq[len(amp_cumsum[amp_cumsum <= 0.5]) + 1]\n",
    "    mode = freq[amp.argmax()]\n",
    "    Q25 = freq[len(amp_cumsum[amp_cumsum <= 0.25]) + 1]\n",
    "    Q75 = freq[len(amp_cumsum[amp_cumsum <= 0.75]) + 1]\n",
    "    IQR = Q75 - Q25\n",
    "    z = amp - amp.mean()\n",
    "    w = amp.std()\n",
    "    skew = ((z ** 3).sum() / (len(spec) - 1)) / w ** 3\n",
    "    kurt = ((z ** 4).sum() / (len(spec) - 1)) / w ** 4\n",
    "    result_d = {\n",
    "        'mean': mean,\n",
    "        'sd': sd,\n",
    "        'median': median,\n",
    "        'mode': mode,\n",
    "        'Q25': Q25,\n",
    "        'Q75': Q75,\n",
    "        'IQR': IQR,\n",
    "        'skew': skew,\n",
    "        'kurt': kurt,\n",
    "    }\n",
    "\n",
    "    return result_d\n"
   ]
  },
  {
   "cell_type": "code",
   "execution_count": 15,
   "id": "10263755",
   "metadata": {},
   "outputs": [
    {
     "data": {
      "text/plain": [
       "{'mean': 1183.0966894697624,\n",
       " 'sd': 1853.8277798260624,\n",
       " 'median': 373.8069678930419,\n",
       " 'mode': 182.59978530301552,\n",
       " 'Q25': 229.32565628964576,\n",
       " 'Q75': 1149.0875378159462,\n",
       " 'IQR': 919.7618815263005,\n",
       " 'skew': 6.919984390922984,\n",
       " 'kurt': 58.720235814124834}"
      ]
     },
     "execution_count": 15,
     "metadata": {},
     "output_type": "execute_result"
    }
   ],
   "source": [
    "spectral_properties(data,fs)"
   ]
  }
 ],
 "metadata": {
  "kernelspec": {
   "display_name": "Python 3 (ipykernel)",
   "language": "python",
   "name": "python3"
  },
  "language_info": {
   "codemirror_mode": {
    "name": "ipython",
    "version": 3
   },
   "file_extension": ".py",
   "mimetype": "text/x-python",
   "name": "python",
   "nbconvert_exporter": "python",
   "pygments_lexer": "ipython3",
   "version": "3.9.6"
  }
 },
 "nbformat": 4,
 "nbformat_minor": 5
}
