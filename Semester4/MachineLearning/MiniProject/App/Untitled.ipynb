{
 "cells": [
  {
   "cell_type": "code",
   "execution_count": 20,
   "id": "bd1da704",
   "metadata": {},
   "outputs": [],
   "source": [
    "import librosa\n",
    "import IPython.display as ipd\n",
    "import sounddevice as sd\n",
    "import numpy as np\n",
    "from scipy.io.wavfile import write\n",
    "import time\n",
    "#import an audio wav\n",
    "Data, fs = librosa.load('C:/Users/Abdelouahab/Downloads/female/en-0532.wav')"
   ]
  },
  {
   "cell_type": "code",
   "execution_count": 21,
   "id": "9b3c1eed",
   "metadata": {},
   "outputs": [],
   "source": [
    "#play your imported audio --numpy\n",
    "def playaudio(audio,freqns):\n",
    "    sd.play(audio, freqns)\n",
    "    sd.wait()\n",
    "playaudio(Data,fs)"
   ]
  },
  {
   "cell_type": "code",
   "execution_count": 3,
   "id": "69550bf6",
   "metadata": {},
   "outputs": [],
   "source": [
    "#save a recorded audio --numpy \n",
    "def SaveRecord(recording:np.ndarray,fs: int):\n",
    "    write('sounds/audio'+ str(int(time.time())) +'.wav', fs, recording)"
   ]
  },
  {
   "cell_type": "code",
   "execution_count": 14,
   "id": "adc2ee1e",
   "metadata": {},
   "outputs": [],
   "source": [
    "#this function takes an numpy audio and return the spectral properties below\n",
    "def spectral_properties(y: np.ndarray, fs: int) -> dict:\n",
    "    spec = np.abs(np.fft.rfft(y))\n",
    "    freq = np.fft.rfftfreq(len(y), d=1/fs)\n",
    "    spec = np.abs(spec)\n",
    "    amp = spec / spec.sum()\n",
    "    mean = (freq * amp).sum()\n",
    "    sd = np.sqrt(np.sum(amp * ((freq - mean) ** 2)))\n",
    "    amp_cumsum = np.cumsum(amp)\n",
    "    median = freq[len(amp_cumsum[amp_cumsum <= 0.5]) + 1]\n",
    "    mode = freq[amp.argmax()]\n",
    "    Q25 = freq[len(amp_cumsum[amp_cumsum <= 0.25]) + 1]\n",
    "    Q75 = freq[len(amp_cumsum[amp_cumsum <= 0.75]) + 1]\n",
    "    IQR = Q75 - Q25\n",
    "    z = amp - amp.mean()\n",
    "    w = amp.std()\n",
    "    skew = ((z ** 3).sum() / (len(spec) - 1)) / w ** 3\n",
    "    kurt = ((z ** 4).sum() / (len(spec) - 1)) / w ** 4\n",
    "    result_d = {\n",
    "        'meanfreq': mean,\n",
    "        'sd': sd,\n",
    "        'median': median,\n",
    "        'Q25': Q25,\n",
    "        'Q75': Q75,\n",
    "        'IQR': IQR,\n",
    "        'skew': skew,\n",
    "        'kurt': kurt,\n",
    "        'mode': mode\n",
    "    }\n",
    "    return result_d"
   ]
  },
  {
   "cell_type": "code",
   "execution_count": 8,
   "id": "814a124d",
   "metadata": {},
   "outputs": [
    {
     "data": {
      "text/plain": [
       "{'meanfreq': 1075.5447081857767,\n",
       " 'sd': 919.7310898835849,\n",
       " 'median': 722.8773773156379,\n",
       " 'Q25': 404.6385319236937,\n",
       " 'Q75': 1514.5545050176688,\n",
       " 'IQR': 1109.915973093975,\n",
       " 'skew': 4.205775251095901,\n",
       " 'kurt': 26.069438926838146,\n",
       " 'mode': 450.2383664821171}"
      ]
     },
     "execution_count": 8,
     "metadata": {},
     "output_type": "execute_result"
    }
   ],
   "source": [
    "spectral_properties(Data,fs)"
   ]
  },
  {
   "cell_type": "code",
   "execution_count": 6,
   "id": "d3afcc1f",
   "metadata": {},
   "outputs": [],
   "source": [
    "duration = 5 #audion lenght\n",
    "fs = 48000 #frequence\n",
    "channels = 2 #how many voice input on your pc\n",
    "# record your own audio\n",
    "recorded = sd.rec(int(duration * fs), samplerate=fs, channels=channels)\n",
    "sd.wait()\n",
    "Datame= recorded"
   ]
  },
  {
   "cell_type": "code",
   "execution_count": 7,
   "id": "0e6615d5",
   "metadata": {},
   "outputs": [],
   "source": [
    "SaveRecord(recorded, fs)"
   ]
  },
  {
   "cell_type": "code",
   "execution_count": 41,
   "id": "fadba2d2",
   "metadata": {},
   "outputs": [
    {
     "name": "stdout",
     "output_type": "stream",
     "text": [
      "Index(['1', '2', '3', '4', '5', '6', '7', '8', '9', '10'], dtype='object')\n",
      "Data Frame Shape: (2793, 10)\n",
      "female    582\n",
      "male      582\n",
      "Name: 10, dtype: int64\n",
      "                1            2            3           4           5  \\\n",
      "961   2459.470024  2781.538303   911.135693  342.920354  362.094395   \n",
      "1293  3329.884549  3445.307345  1699.159021  211.391437  421.636086   \n",
      "1078  3185.893564  3766.270485  1620.039683  402.777778  391.865079   \n",
      "445   2871.077683  2677.708407  2455.592105  226.151316  336.348684   \n",
      "1779  1192.781526  1061.527856   971.278317  215.614887  429.611650   \n",
      "447   2699.679776  3338.123555   970.665172  265.881913  351.270553   \n",
      "2182  2215.161264  2714.695801   996.556474  498.278237  523.760331   \n",
      "781   1079.257703  1839.591857   424.722222  126.388889  229.722222   \n",
      "441   1716.331225  2572.565605   608.084046  109.864672  388.176638   \n",
      "1782  3629.203030  3710.818726  2441.373125  309.768428  651.581866   \n",
      "\n",
      "                6            7          8           9      10  \n",
      "961   4349.188791  3987.094395  11.612853  186.034597  female  \n",
      "1293  5805.045872  5383.409786  21.129647  735.772258  female  \n",
      "1078  4743.716931  4351.851852   7.737313   78.393064  female  \n",
      "445   5581.140351  5244.791667  13.412818  238.260414  female  \n",
      "1779  1654.935275  1225.323625   9.749375  175.450034  female  \n",
      "447   4115.844544  3764.573991  10.734003  168.249867  female  \n",
      "2182  2673.209366  2149.449036   9.148810  124.562253  female  \n",
      "781    990.000000   760.277778  11.000911  166.298497  female  \n",
      "441   1964.209402  1576.032764   9.104705  108.742152  female  \n",
      "1782  5593.199609  4941.617743   7.723137   99.968461  female  \n"
     ]
    },
    {
     "data": {
      "image/png": "[encoded data removed]",
      "text/plain": [
       "<Figure size 432x288 with 2 Axes>"
      ]
     },
     "metadata": {
      "needs_background": "light"
     },
     "output_type": "display_data"
    },
    {
     "name": "stdout",
     "output_type": "stream",
     "text": [
      "             1         2         3         4         5         6         7  \\\n",
      "961   0.210652  0.326046  0.091414  0.088655  0.057395  0.289806  0.334550   \n",
      "1293  0.309268  0.445494  0.183870  0.051654  0.068758  0.397002  0.459384   \n",
      "1078  0.292954  0.503253  0.174587  0.105494  0.063076  0.318855  0.367160   \n",
      "445   0.257286  0.307361  0.272620  0.055806  0.052482  0.380516  0.446991   \n",
      "1779  0.067139  0.016521  0.098470  0.052842  0.070280  0.091425  0.087642   \n",
      "...        ...       ...       ...       ...       ...       ...       ...   \n",
      "2774  0.202823  0.466578  0.054118  0.018140  0.036004  0.186397  0.219014   \n",
      "2701  0.138228  0.271069  0.075682  0.124269  0.070804  0.127484  0.131179   \n",
      "2773  0.093110  0.108854  0.072575  0.116386  0.073691  0.116118  0.116025   \n",
      "2771  0.086299  0.146333  0.041523  0.022351  0.037641  0.103590  0.117704   \n",
      "2751  0.094184  0.098526  0.076059  0.083159  0.065792  0.122709  0.127729   \n",
      "\n",
      "             8         9  \n",
      "961   0.081810  0.009430  \n",
      "1293  0.164832  0.038813  \n",
      "1078  0.048001  0.003677  \n",
      "445   0.097513  0.012222  \n",
      "1779  0.065554  0.008865  \n",
      "...        ...       ...  \n",
      "2774  0.077590  0.009107  \n",
      "2701  0.056267  0.004863  \n",
      "2773  0.074266  0.007911  \n",
      "2771  0.108925  0.016449  \n",
      "2751  0.056086  0.004782  \n",
      "\n",
      "[1164 rows x 9 columns]\n",
      "0.50920245398773\n"
     ]
    }
   ],
   "source": [
    "import pandas as pd\n",
    "from sklearn.model_selection import train_test_split\n",
    "import seaborn as sns\n",
    "from matplotlib import pyplot as plt\n",
    "from sklearn.ensemble import RandomForestClassifier\n",
    "def NormalizeData(Data,Max,Min):\n",
    "        return (Data - Min )/ (Max - Min)\n",
    "def Main():\n",
    "    VoiceDataSet = pd.read_csv(\"C:/Users/Abdelouahab/Documents/M&M/out27.csv\")\n",
    "    # Print head\n",
    "    VoiceDataSet = VoiceDataSet.drop(['Unnamed: 0'], axis=1)\n",
    "#     print(VoiceDataSet.head())\n",
    "    \n",
    "    \n",
    "    # nbr of clumns\n",
    "    print(VoiceDataSet.columns)\n",
    "    # change colomn data type\n",
    "    for i in range(len(VoiceDataSet.columns)-1):\n",
    "        VoiceDataSet.astype({VoiceDataSet.columns[i]: 'int32'}).dtypes\n",
    "    # shuffle data for more training compatibilty\n",
    "#     VoiceDataSet = VoiceDataSet.reindex(np.random.permutation(VoiceDataSet.index))\n",
    "    \n",
    "    #dataframe shape\n",
    "    print(\"Data Frame Shape:\",VoiceDataSet.shape)\n",
    "    \n",
    "    VoiceDataSet = VoiceDataSet[VoiceDataSet[\"10\"] != \"other\"]\n",
    "    VoiceDataSet=VoiceDataSet.sort_values(by=['10'])\n",
    "    #counting values male and female\n",
    "    VoiceDataSet = VoiceDataSet[0:1164]\n",
    "    print(VoiceDataSet[\"10\"].value_counts())\n",
    "    \n",
    "    print(VoiceDataSet.head(10))\n",
    "\n",
    "    #show the Relations between attributes\n",
    "    correlation = VoiceDataSet.corr()\n",
    "    sns.heatmap(correlation)\n",
    "    plt.show()\n",
    "    \n",
    "    \n",
    "    # extract attributes\n",
    "    \n",
    "    X_ = VoiceDataSet.drop(['10'], axis=1)\n",
    "    Xnorm=np.zeros(len(X_))\n",
    "    from sklearn.preprocessing import normalize\n",
    "    for i in range(9):\n",
    "        X_[X_.columns[i]] = NormalizeData(X_[X_.columns[i]],max(X_[X_.columns[i]]),min(X_[X_.columns[i]]))\n",
    "#         print(arr1)\n",
    "#         Xnorm = np.c_[Xnorm, arr1]\n",
    "    print(X_)\n",
    "    # extract Labeles/targets\n",
    "    Y_ = VoiceDataSet['10']\n",
    "    \n",
    "    #split data \n",
    "    X_train , X_test , y_train , y_test = train_test_split(X_,Y_, test_size=0.7)\n",
    "    \n",
    "    # initualize random forest algo\n",
    "    Model = RandomForestClassifier(random_state=0)\n",
    "\n",
    "    Model.fit(X_train,y_train)\n",
    "    \n",
    "    # Print the model score\n",
    "    print(Model.score(X_test,y_test))\n",
    "     \n",
    "    return Model\n",
    "Model = Main()"
   ]
  },
  {
   "cell_type": "code",
   "execution_count": 24,
   "id": "bcee4d82",
   "metadata": {},
   "outputs": [
    {
     "name": "stderr",
     "output_type": "stream",
     "text": [
      "C:\\Users\\Abdelouahab\\AppData\\Local\\Programs\\Python\\Python39\\lib\\site-packages\\sklearn\\base.py:493: FutureWarning: The feature names should match those that were passed during fit. Starting version 1.2, an error will be raised.\n",
      "Feature names unseen at fit time:\n",
      "- IQR\n",
      "- Q25\n",
      "- Q75\n",
      "- kurt\n",
      "- meanfreq\n",
      "- ...\n",
      "Feature names seen at fit time, yet now missing:\n",
      "- 1\n",
      "- 2\n",
      "- 3\n",
      "- 4\n",
      "- 5\n",
      "- ...\n",
      "\n",
      "  warnings.warn(message, FutureWarning)\n"
     ]
    },
    {
     "data": {
      "text/plain": [
       "array(['male'], dtype=object)"
      ]
     },
     "execution_count": 24,
     "metadata": {},
     "output_type": "execute_result"
    }
   ],
   "source": [
    "procceddata = spectral_properties(Data,fs)\n",
    "sd.play(Data, fs)\n",
    "sd.wait()\n",
    "# print(procceddata)\n",
    "Xpred = pd.DataFrame(procceddata,index=[0])\n",
    "Xpred.head()\n",
    "Model.predict(Xpred)\n"
   ]
  }
 ],
 "metadata": {
  "kernelspec": {
   "display_name": "Python 3 (ipykernel)",
   "language": "python",
   "name": "python3"
  },
  "language_info": {
   "codemirror_mode": {
    "name": "ipython",
    "version": 3
   },
   "file_extension": ".py",
   "mimetype": "text/x-python",
   "name": "python",
   "nbconvert_exporter": "python",
   "pygments_lexer": "ipython3",
   "version": "3.9.6"
  }
 },
 "nbformat": 4,
 "nbformat_minor": 5
}
