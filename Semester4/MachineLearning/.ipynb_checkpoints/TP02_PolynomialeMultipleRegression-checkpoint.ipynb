{
 "cells": [
  {
   "cell_type": "markdown",
   "metadata": {},
   "source": [
    "#  I- Régression Linéaire Multiple"
   ]
  },
  {
   "cell_type": "markdown",
   "metadata": {},
   "source": [
    "On parle de Régression Linéaire Multiple lorsqu'on integre plusieures variables $x_1,x_2,....x_n$\n",
    " à notre modèle et que les choses commencent à devenir vraiment intéressantes. \n",
    "Le but de la Régression Linéaire Multiple est de rouver le meilleur ensemble  $\\theta=(\\theta_0,\\theta_1,...., \\theta_n)$ revient à  minimiser le coût global des erreurs unitaires qui se définit comme suit :\n",
    "\t\t$$  \\min J(\\theta)=\\min_{\\theta}\\frac{1}{2m}\\sum_{i=0}^{m} (h_\\theta(x(i))-y(i))^2$$\n",
    "avec $m$ est la taille du training set.\n",
    "Avec $$h_\\theta(x)=\\theta_0+\\theta_1 x_1+\\theta_2x_2+.....+\\theta_n x_n $$  \n"
   ]
  },
  {
   "cell_type": "markdown",
   "metadata": {},
   "source": [
    "# 1-datasets\n",
    "\n",
    "###   Créer un modèle à deux variables de régression linéaire multiple (n=2), \n",
    " (x,y) avec $m$ exemples, $2$ variables \n",
    "\t\t\n",
    "$\n",
    "\t\t\tX=\\begin{pmatrix} \n",
    "\t\t\tx_1^{(1)}&\tx_2^{(1)}&1\\\\                \n",
    "\t\t\tx_1^{(2)}&x_2^{(2)}&1\\\\ \n",
    "\t\t\t..&..&..1\\\\ \n",
    "\t\t\t..&..&..1\\\\ \n",
    "\t\t\tx_1^{(m)}&x_2^{(m)}&1\n",
    "\t\t\t\\end{pmatrix}\\notag\n",
    "\t\t\t$\n",
    "            \n",
    "$       Y= \\begin{pmatrix}\n",
    "\t\tY^{(1)}\\\\ \n",
    "\t\tY^{(2)}\\\\\n",
    "\t\t.....\\\\\n",
    "\t\t.....\\\\\n",
    "\t\tY^{(m)}\n",
    "        \\end{pmatrix}\n",
    "        $\n",
    "            \n",
    "$           \\theta=\\begin{pmatrix} \n",
    "\t\t\t\\theta_1\\\\ \n",
    "\t\t\t\\theta_2\\\\ \n",
    "\t\t\t\\theta_0\n",
    "\t\t\t\\end{pmatrix}\n",
    "            $\n",
    "\t\n",
    "  "
   ]
  },
  {
   "cell_type": "markdown",
   "metadata": {},
   "source": [
    "#### 1-Générer de données aléatoires\n",
    "#### 2-Afficher les données en 2D puis en 3D\n"
   ]
  },
  {
   "cell_type": "code",
   "execution_count": 17,
   "metadata": {},
   "outputs": [
    {
     "data": {
      "text/plain": [
       "<matplotlib.collections.PathCollection at 0x133fc89c550>"
      ]
     },
     "execution_count": 17,
     "metadata": {},
     "output_type": "execute_result"
    },
    {
     "data": {
      "image/png": "[encoded data removed]",
      "text/plain": [
       "<Figure size 432x288 with 1 Axes>"
      ]
     },
     "metadata": {
      "needs_background": "light"
     },
     "output_type": "display_data"
    }
   ],
   "source": [
    "import numpy as np\n",
    "import random\n",
    "from matplotlib import pyplot as plt\n",
    "x = np.array([[random.randint(-10,10),random.randint(-10,10)] for i in range(20)])\n",
    "y = np.array([[random.randint(-10,10)] for i in range(20)])\n",
    "plt.scatter([i[0] for i in x], y)"
   ]
  },
  {
   "cell_type": "markdown",
   "metadata": {},
   "source": [
    "#### 3-redimentioner les matrices, créer la matrice X et $\\theta$"
   ]
  },
  {
   "cell_type": "code",
   "execution_count": 4,
   "metadata": {},
   "outputs": [
    {
     "name": "stderr",
     "output_type": "stream",
     "text": [
      "UsageError: %%python3 is a cell magic, but the cell body is empty.\n"
     ]
    }
   ],
   "source": [
    "X = np.c_[np.ones((len(x), 1)), x]\n",
    "Q = np.random.randn(3, 1)"
   ]
  },
  {
   "cell_type": "markdown",
   "metadata": {},
   "source": [
    "#### 4-Implémenter le model de prédiction, Fonction cout, Gradients et Descente de Gradient"
   ]
  },
  {
   "cell_type": "code",
   "execution_count": null,
   "metadata": {
    "scrolled": true
   },
   "outputs": [],
   "source": []
  },
  {
   "cell_type": "code",
   "execution_count": null,
   "metadata": {},
   "outputs": [],
   "source": []
  },
  {
   "cell_type": "code",
   "execution_count": 116,
   "metadata": {},
   "outputs": [],
   "source": []
  },
  {
   "cell_type": "markdown",
   "metadata": {},
   "source": [
    " #### 5-Afficher les valeurs de $\\theta$\n"
   ]
  },
  {
   "cell_type": "code",
   "execution_count": null,
   "metadata": {},
   "outputs": [],
   "source": []
  },
  {
   "cell_type": "markdown",
   "metadata": {},
   "source": [
    "### 6-Afficher les résultats de prédictions par rapport a notre Dataset ainsi que la courbe d'apprentissage"
   ]
  },
  {
   "cell_type": "code",
   "execution_count": null,
   "metadata": {},
   "outputs": [],
   "source": []
  },
  {
   "cell_type": "code",
   "execution_count": null,
   "metadata": {},
   "outputs": [],
   "source": []
  },
  {
   "cell_type": "markdown",
   "metadata": {},
   "source": [
    "### 7-Utiliser le coefficient de détermination pour évaluer la réelle performance et interpréter le resultats"
   ]
  },
  {
   "cell_type": "code",
   "execution_count": null,
   "metadata": {},
   "outputs": [],
   "source": []
  },
  {
   "cell_type": "markdown",
   "metadata": {},
   "source": [
    "#  II- Régression Polynomiale"
   ]
  },
  {
   "cell_type": "markdown",
   "metadata": {},
   "source": [
    "Pour développer un modèle polynomial à partir des équations de la régression linéaire, il suffit d'ajouter des degrés de polynome dans les colonnes de la matrice. On développera un modèle qui vise à chercher la fonction de prédiction $$h_\\theta(x)=\\theta_0+\\theta_1 x+\\theta_2x^2+.....+\\theta_n x^n $$  "
   ]
  },
  {
   "cell_type": "markdown",
   "metadata": {},
   "source": [
    "# 1-datasets\n",
    "\tPour n=2, on a \n",
    "$\n",
    "\t\t\tX=\\begin{pmatrix} \n",
    "\t\t\tx^{(1)}&\tx^{2^{(1)}}&1\\\\                \n",
    "\t\t\tx^{(2)}&x^{2^{(2)}}&1\\\\ \n",
    "\t\t\t..&..&..1\\\\ \n",
    "\t\t\t..&..&..1\\\\ \n",
    "\t\t\tx^{(m)}&x^{2^{(m)}}&1\n",
    "\t\t\t\\end{pmatrix}\\notag\n",
    "\t\t\t$\n",
    "            \n",
    "$       Y= \\begin{pmatrix}\n",
    "\t\tY^{(1)}\\\\ \n",
    "\t\tY^{(2)}\\\\\n",
    "\t\t.....\\\\\n",
    "\t\t.....\\\\\n",
    "\t\tY^{(m)}\n",
    "        \\end{pmatrix}\n",
    "        $\n",
    "            \n",
    "$           \\theta=\\begin{pmatrix} \n",
    "\t\t\t\\theta_1\\\\ \n",
    "\t\t\t\\theta_2\\\\ \n",
    "\t\t\t\\theta_0\n",
    "\t\t\t\\end{pmatrix}\n",
    "            $\n",
    "\t"
   ]
  },
  {
   "cell_type": "markdown",
   "metadata": {},
   "source": [
    " ### Refaire les mêmes étapes pour créer un model de prédiction par la régression polynomiale\n",
    "  NB:modifier les valeurs de y pour rendre le dataset non-linéaire ( utiliser une fonction non linéaire)"
   ]
  },
  {
   "cell_type": "code",
   "execution_count": 2,
   "metadata": {},
   "outputs": [],
   "source": [
    "\n"
   ]
  },
  {
   "cell_type": "code",
   "execution_count": null,
   "metadata": {},
   "outputs": [],
   "source": []
  },
  {
   "cell_type": "code",
   "execution_count": null,
   "metadata": {},
   "outputs": [],
   "source": []
  },
  {
   "cell_type": "code",
   "execution_count": null,
   "metadata": {},
   "outputs": [],
   "source": []
  },
  {
   "cell_type": "code",
   "execution_count": 163,
   "metadata": {},
   "outputs": [],
   "source": []
  },
  {
   "cell_type": "code",
   "execution_count": null,
   "metadata": {},
   "outputs": [],
   "source": []
  },
  {
   "cell_type": "code",
   "execution_count": null,
   "metadata": {},
   "outputs": [],
   "source": []
  },
  {
   "cell_type": "code",
   "execution_count": null,
   "metadata": {},
   "outputs": [],
   "source": []
  },
  {
   "cell_type": "markdown",
   "metadata": {},
   "source": [
    "# III- Régressions linéaires avec Statsmodels et Scikit-Learn\n",
    " En utilisant les données du fichiers \"mtcars.csv\", on vise à prédire la consommation d'essence du véhicule \"mpg\" en fonction du poids du véhicule \"wt\" et la puissance du vehicule \"hp\" (horse power) en appliquant la régression linéaire multiple et polynomiale."
   ]
  },
  {
   "cell_type": "markdown",
   "metadata": {},
   "source": [
    "## 1-Regression  multiple en utilisant Scikit-Learn \n",
    "    1-importer les données \n",
    "    2-faites appel à \"linear_model.LinearRegression\" de Scikit-Learn \n",
    "    3-Vous faites la prédiction\n",
    "    4-Afficher en 3d les résultats \n",
    "    5-Quel est la consommation d'essence du véhicule prédite avec le poids de 3.1 et une puissance de 120"
   ]
  },
  {
   "cell_type": "code",
   "execution_count": 23,
   "metadata": {},
   "outputs": [
    {
     "data": {
      "text/plain": [
       "0.034914609168736344"
      ]
     },
     "execution_count": 23,
     "metadata": {},
     "output_type": "execute_result"
    }
   ],
   "source": [
    "import sklearn\n",
    "import pandas as pd\n",
    "from sklearn.linear_model import LinearRegression"
   ]
  },
  {
   "cell_type": "code",
   "execution_count": 95,
   "metadata": {},
   "outputs": [],
   "source": [
    "import csv\n",
    "with open('C:/Git-hub/Python/Semester4/MachineLearning/mtcars.csv', newline='') as f:\n",
    "    reader = csv.reader(f)\n",
    "    data = list(reader)\n",
    "X = np.array([[eval(i[4]),eval(i[6])] for i in data[1:]])\n",
    "Y = np.array([ eval(i[1]) for i in data[1:]])"
   ]
  },
  {
   "cell_type": "code",
   "execution_count": 96,
   "metadata": {},
   "outputs": [
    {
     "name": "stdout",
     "output_type": "stream",
     "text": [
      "0.8267854518827914\n"
     ]
    },
    {
     "data": {
      "text/plain": [
       "array([21.39324118])"
      ]
     },
     "execution_count": 96,
     "metadata": {},
     "output_type": "execute_result"
    }
   ],
   "source": [
    "reg = LinearRegression().fit(X, Y)\n",
    "print(reg.score(X, Y))\n",
    "reg.predict([[120,3.1]])"
   ]
  },
  {
   "cell_type": "code",
   "execution_count": 83,
   "metadata": {},
   "outputs": [],
   "source": [
    "# fig, ax = plt.subplots(subplot_kw={\"projection\": \"3d\"})\n",
    "# def F(x,y):\n",
    "#     return np.sin(x)+np.cos(x+y)\n",
    "# x,y=[i[0] for i in X],[i[1] for i in X]\n",
    "# # x=x.astype(\"i\")\n",
    "# # y=y.astype(\"i\")\n",
    "# X1,Y1=np.meshgrid(x,y)\n",
    "# Z=F(X1,Y1)\n",
    "# ax=plt.axes(projection='3d')\n",
    "# ax.plot_surface(X,Y,Z,cmap='plasma')\n",
    "# # plt.scatter([i[0] for i in X], Y)"
   ]
  },
  {
   "cell_type": "markdown",
   "metadata": {},
   "source": [
    "## 2-Regression  multiple en utilisant statsmodels\n",
    "    refaire les memes etatpes, comparer les résultas"
   ]
  },
  {
   "cell_type": "code",
   "execution_count": 106,
   "metadata": {},
   "outputs": [
    {
     "data": {
      "text/html": [
       "<table class=\"simpletable\">\n",
       "<caption>OLS Regression Results</caption>\n",
       "<tr>\n",
       "  <th>Dep. Variable:</th>            <td>y</td>        <th>  R-squared (uncentered):</th>      <td>   0.726</td>\n",
       "</tr>\n",
       "<tr>\n",
       "  <th>Model:</th>                   <td>OLS</td>       <th>  Adj. R-squared (uncentered):</th> <td>   0.708</td>\n",
       "</tr>\n",
       "<tr>\n",
       "  <th>Method:</th>             <td>Least Squares</td>  <th>  F-statistic:       </th>          <td>   39.83</td>\n",
       "</tr>\n",
       "<tr>\n",
       "  <th>Date:</th>             <td>Tue, 08 Feb 2022</td> <th>  Prob (F-statistic):</th>          <td>3.60e-09</td>\n",
       "</tr>\n",
       "<tr>\n",
       "  <th>Time:</th>                 <td>10:39:57</td>     <th>  Log-Likelihood:    </th>          <td> -122.01</td>\n",
       "</tr>\n",
       "<tr>\n",
       "  <th>No. Observations:</th>      <td>    32</td>      <th>  AIC:               </th>          <td>   248.0</td>\n",
       "</tr>\n",
       "<tr>\n",
       "  <th>Df Residuals:</th>          <td>    30</td>      <th>  BIC:               </th>          <td>   251.0</td>\n",
       "</tr>\n",
       "<tr>\n",
       "  <th>Df Model:</th>              <td>     2</td>      <th>                     </th>              <td> </td>   \n",
       "</tr>\n",
       "<tr>\n",
       "  <th>Covariance Type:</th>      <td>nonrobust</td>    <th>                     </th>              <td> </td>   \n",
       "</tr>\n",
       "</table>\n",
       "<table class=\"simpletable\">\n",
       "<tr>\n",
       "   <td></td>     <th>coef</th>     <th>std err</th>      <th>t</th>      <th>P>|t|</th>  <th>[0.025</th>    <th>0.975]</th>  \n",
       "</tr>\n",
       "<tr>\n",
       "  <th>x1</th> <td>   -0.0339</td> <td>    0.039</td> <td>   -0.861</td> <td> 0.396</td> <td>   -0.114</td> <td>    0.047</td>\n",
       "</tr>\n",
       "<tr>\n",
       "  <th>x2</th> <td>    6.8404</td> <td>    1.894</td> <td>    3.611</td> <td> 0.001</td> <td>    2.972</td> <td>   10.709</td>\n",
       "</tr>\n",
       "</table>\n",
       "<table class=\"simpletable\">\n",
       "<tr>\n",
       "  <th>Omnibus:</th>       <td> 0.301</td> <th>  Durbin-Watson:     </th> <td>   0.735</td>\n",
       "</tr>\n",
       "<tr>\n",
       "  <th>Prob(Omnibus):</th> <td> 0.860</td> <th>  Jarque-Bera (JB):  </th> <td>   0.044</td>\n",
       "</tr>\n",
       "<tr>\n",
       "  <th>Skew:</th>          <td> 0.090</td> <th>  Prob(JB):          </th> <td>   0.978</td>\n",
       "</tr>\n",
       "<tr>\n",
       "  <th>Kurtosis:</th>      <td> 2.994</td> <th>  Cond. No.          </th> <td>    153.</td>\n",
       "</tr>\n",
       "</table><br/><br/>Notes:<br/>[1] R² is computed without centering (uncentered) since the model does not contain a constant.<br/>[2] Standard Errors assume that the covariance matrix of the errors is correctly specified."
      ],
      "text/plain": [
       "<class 'statsmodels.iolib.summary.Summary'>\n",
       "\"\"\"\n",
       "                                 OLS Regression Results                                \n",
       "=======================================================================================\n",
       "Dep. Variable:                      y   R-squared (uncentered):                   0.726\n",
       "Model:                            OLS   Adj. R-squared (uncentered):              0.708\n",
       "Method:                 Least Squares   F-statistic:                              39.83\n",
       "Date:                Tue, 08 Feb 2022   Prob (F-statistic):                    3.60e-09\n",
       "Time:                        10:39:57   Log-Likelihood:                         -122.01\n",
       "No. Observations:                  32   AIC:                                      248.0\n",
       "Df Residuals:                      30   BIC:                                      251.0\n",
       "Df Model:                           2                                                  \n",
       "Covariance Type:            nonrobust                                                  \n",
       "==============================================================================\n",
       "                 coef    std err          t      P>|t|      [0.025      0.975]\n",
       "------------------------------------------------------------------------------\n",
       "x1            -0.0339      0.039     -0.861      0.396      -0.114       0.047\n",
       "x2             6.8404      1.894      3.611      0.001       2.972      10.709\n",
       "==============================================================================\n",
       "Omnibus:                        0.301   Durbin-Watson:                   0.735\n",
       "Prob(Omnibus):                  0.860   Jarque-Bera (JB):                0.044\n",
       "Skew:                           0.090   Prob(JB):                        0.978\n",
       "Kurtosis:                       2.994   Cond. No.                         153.\n",
       "==============================================================================\n",
       "\n",
       "Notes:\n",
       "[1] R² is computed without centering (uncentered) since the model does not contain a constant.\n",
       "[2] Standard Errors assume that the covariance matrix of the errors is correctly specified.\n",
       "\"\"\""
      ]
     },
     "execution_count": 106,
     "metadata": {},
     "output_type": "execute_result"
    }
   ],
   "source": [
    "import statsmodels.api as sm\n",
    "X=sm.add_constant(X)\n",
    "model = sm.OLS(Y, X)\n",
    "results = model.fit()\n",
    "results.summary()"
   ]
  }
 ],
 "metadata": {
  "kernelspec": {
   "display_name": "Python 3 (ipykernel)",
   "language": "python",
   "name": "python3"
  },
  "language_info": {
   "codemirror_mode": {
    "name": "ipython",
    "version": 3
   },
   "file_extension": ".py",
   "mimetype": "text/x-python",
   "name": "python",
   "nbconvert_exporter": "python",
   "pygments_lexer": "ipython3",
   "version": "3.9.6"
  }
 },
 "nbformat": 4,
 "nbformat_minor": 4
}
